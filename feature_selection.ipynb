{
 "cells": [
  {
   "cell_type": "markdown",
   "id": "corporate-orange",
   "metadata": {},
   "source": [
    "# read data"
   ]
  },
  {
   "cell_type": "code",
   "execution_count": 2,
   "id": "wooden-passion",
   "metadata": {},
   "outputs": [],
   "source": [
    "import pandas as pd\n",
    "import matplotlib.pyplot as plt\n",
    "import seaborn as sns"
   ]
  },
  {
   "cell_type": "markdown",
   "id": "banner-statement",
   "metadata": {},
   "source": [
    "# plot features by missing proportion"
   ]
  },
  {
   "cell_type": "code",
   "execution_count": 12,
   "id": "chicken-timber",
   "metadata": {},
   "outputs": [
    {
     "data": {
      "text/plain": [
       "<matplotlib.lines.Line2D at 0x7f98bc9c3a20>"
      ]
     },
     "execution_count": 12,
     "metadata": {},
     "output_type": "execute_result"
    },
    {
     "data": {
      "text/plain": [
       "<Figure size 360x2160 with 0 Axes>"
      ]
     },
     "metadata": {},
     "output_type": "display_data"
    },
    {
     "data": {
      "image/png": "[encoded data removed]",
      "text/plain": [
       "<Figure size 360x360 with 1 Axes>"
      ]
     },
     "metadata": {
      "needs_background": "light"
     },
     "output_type": "display_data"
    }
   ],
   "source": [
    "plt.figure(figsize=(5,30))\n",
    "sns.displot(\n",
    "    data=qtw.iloc[:,120:].isna().melt(value_name=\"missing\"),\n",
    "    y=\"variable\",\n",
    "    hue=\"missing\",\n",
    "    multiple=\"fill\",\n",
    "    aspect=1\n",
    ")\n",
    "plt.axvline(0.5, color = \"r\")\n",
    "# plt.savefig(\"missing_percentages_120_remaining.png\", dpi=100)"
   ]
  },
  {
   "cell_type": "markdown",
   "id": "established-harris",
   "metadata": {},
   "source": [
    "# missing values over years"
   ]
  },
  {
   "cell_type": "code",
   "execution_count": 98,
   "id": "aquatic-delta",
   "metadata": {},
   "outputs": [],
   "source": [
    "missing_values_over_yrs = qtw.drop('Year', axis = 1).isna().groupby(qtw.Year, sort=False).sum().reset_index() / len(qtw) * 100 > (100/12)"
   ]
  },
  {
   "cell_type": "code",
   "execution_count": 77,
   "id": "agreed-danger",
   "metadata": {},
   "outputs": [],
   "source": [
    "missing_values_over_yrs.to_excel(\"missing_values_over_yrs.xlsx\")"
   ]
  },
  {
   "cell_type": "code",
   "execution_count": 22,
   "id": "cutting-english",
   "metadata": {},
   "outputs": [
    {
     "ename": "KeyError",
     "evalue": "\"['Age' 'Marital' 'Income_5Gp' 'Base_QRMethod_1' 'Base_QRMethod_10'\\n 'Base_QRMethod_11' 'Base_QRMethod_12' 'Base_QRMethod_13' 'M1_QReason_6'\\n 'M1_QReason_13' 'ID' 'Serial_Num' 'Unnamed: 0'] not found in axis\"",
     "output_type": "error",
     "traceback": [
      "\u001b[0;31m---------------------------------------------------------------------------\u001b[0m",
      "\u001b[0;31mKeyError\u001b[0m                                  Traceback (most recent call last)",
      "\u001b[0;32m<ipython-input-22-35a84c6ed396>\u001b[0m in \u001b[0;36m<module>\u001b[0;34m\u001b[0m\n\u001b[1;32m     12\u001b[0m                 \u001b[0;34m'ID'\u001b[0m\u001b[0;34m,\u001b[0m\u001b[0;34m\u001b[0m\u001b[0;34m\u001b[0m\u001b[0m\n\u001b[1;32m     13\u001b[0m                 \u001b[0;34m'Serial_Num'\u001b[0m\u001b[0;34m,\u001b[0m\u001b[0;34m\u001b[0m\u001b[0;34m\u001b[0m\u001b[0m\n\u001b[0;32m---> 14\u001b[0;31m                 'Unnamed: 0'], axis=1)\n\u001b[0m",
      "\u001b[0;32m~/miniconda3/envs/ML_learn/lib/python3.6/site-packages/pandas/core/frame.py\u001b[0m in \u001b[0;36mdrop\u001b[0;34m(self, labels, axis, index, columns, level, inplace, errors)\u001b[0m\n\u001b[1;32m   4172\u001b[0m             \u001b[0mlevel\u001b[0m\u001b[0;34m=\u001b[0m\u001b[0mlevel\u001b[0m\u001b[0;34m,\u001b[0m\u001b[0;34m\u001b[0m\u001b[0;34m\u001b[0m\u001b[0m\n\u001b[1;32m   4173\u001b[0m             \u001b[0minplace\u001b[0m\u001b[0;34m=\u001b[0m\u001b[0minplace\u001b[0m\u001b[0;34m,\u001b[0m\u001b[0;34m\u001b[0m\u001b[0;34m\u001b[0m\u001b[0m\n\u001b[0;32m-> 4174\u001b[0;31m             \u001b[0merrors\u001b[0m\u001b[0;34m=\u001b[0m\u001b[0merrors\u001b[0m\u001b[0;34m,\u001b[0m\u001b[0;34m\u001b[0m\u001b[0;34m\u001b[0m\u001b[0m\n\u001b[0m\u001b[1;32m   4175\u001b[0m         )\n\u001b[1;32m   4176\u001b[0m \u001b[0;34m\u001b[0m\u001b[0m\n",
      "\u001b[0;32m~/miniconda3/envs/ML_learn/lib/python3.6/site-packages/pandas/core/generic.py\u001b[0m in \u001b[0;36mdrop\u001b[0;34m(self, labels, axis, index, columns, level, inplace, errors)\u001b[0m\n\u001b[1;32m   3887\u001b[0m         \u001b[0;32mfor\u001b[0m \u001b[0maxis\u001b[0m\u001b[0;34m,\u001b[0m \u001b[0mlabels\u001b[0m \u001b[0;32min\u001b[0m \u001b[0maxes\u001b[0m\u001b[0;34m.\u001b[0m\u001b[0mitems\u001b[0m\u001b[0;34m(\u001b[0m\u001b[0;34m)\u001b[0m\u001b[0;34m:\u001b[0m\u001b[0;34m\u001b[0m\u001b[0;34m\u001b[0m\u001b[0m\n\u001b[1;32m   3888\u001b[0m             \u001b[0;32mif\u001b[0m \u001b[0mlabels\u001b[0m \u001b[0;32mis\u001b[0m \u001b[0;32mnot\u001b[0m \u001b[0;32mNone\u001b[0m\u001b[0;34m:\u001b[0m\u001b[0;34m\u001b[0m\u001b[0;34m\u001b[0m\u001b[0m\n\u001b[0;32m-> 3889\u001b[0;31m                 \u001b[0mobj\u001b[0m \u001b[0;34m=\u001b[0m \u001b[0mobj\u001b[0m\u001b[0;34m.\u001b[0m\u001b[0m_drop_axis\u001b[0m\u001b[0;34m(\u001b[0m\u001b[0mlabels\u001b[0m\u001b[0;34m,\u001b[0m \u001b[0maxis\u001b[0m\u001b[0;34m,\u001b[0m \u001b[0mlevel\u001b[0m\u001b[0;34m=\u001b[0m\u001b[0mlevel\u001b[0m\u001b[0;34m,\u001b[0m \u001b[0merrors\u001b[0m\u001b[0;34m=\u001b[0m\u001b[0merrors\u001b[0m\u001b[0;34m)\u001b[0m\u001b[0;34m\u001b[0m\u001b[0;34m\u001b[0m\u001b[0m\n\u001b[0m\u001b[1;32m   3890\u001b[0m \u001b[0;34m\u001b[0m\u001b[0m\n\u001b[1;32m   3891\u001b[0m         \u001b[0;32mif\u001b[0m \u001b[0minplace\u001b[0m\u001b[0;34m:\u001b[0m\u001b[0;34m\u001b[0m\u001b[0;34m\u001b[0m\u001b[0m\n",
      "\u001b[0;32m~/miniconda3/envs/ML_learn/lib/python3.6/site-packages/pandas/core/generic.py\u001b[0m in \u001b[0;36m_drop_axis\u001b[0;34m(self, labels, axis, level, errors)\u001b[0m\n\u001b[1;32m   3921\u001b[0m                 \u001b[0mnew_axis\u001b[0m \u001b[0;34m=\u001b[0m \u001b[0maxis\u001b[0m\u001b[0;34m.\u001b[0m\u001b[0mdrop\u001b[0m\u001b[0;34m(\u001b[0m\u001b[0mlabels\u001b[0m\u001b[0;34m,\u001b[0m \u001b[0mlevel\u001b[0m\u001b[0;34m=\u001b[0m\u001b[0mlevel\u001b[0m\u001b[0;34m,\u001b[0m \u001b[0merrors\u001b[0m\u001b[0;34m=\u001b[0m\u001b[0merrors\u001b[0m\u001b[0;34m)\u001b[0m\u001b[0;34m\u001b[0m\u001b[0;34m\u001b[0m\u001b[0m\n\u001b[1;32m   3922\u001b[0m             \u001b[0;32melse\u001b[0m\u001b[0;34m:\u001b[0m\u001b[0;34m\u001b[0m\u001b[0;34m\u001b[0m\u001b[0m\n\u001b[0;32m-> 3923\u001b[0;31m                 \u001b[0mnew_axis\u001b[0m \u001b[0;34m=\u001b[0m \u001b[0maxis\u001b[0m\u001b[0;34m.\u001b[0m\u001b[0mdrop\u001b[0m\u001b[0;34m(\u001b[0m\u001b[0mlabels\u001b[0m\u001b[0;34m,\u001b[0m \u001b[0merrors\u001b[0m\u001b[0;34m=\u001b[0m\u001b[0merrors\u001b[0m\u001b[0;34m)\u001b[0m\u001b[0;34m\u001b[0m\u001b[0;34m\u001b[0m\u001b[0m\n\u001b[0m\u001b[1;32m   3924\u001b[0m             \u001b[0mresult\u001b[0m \u001b[0;34m=\u001b[0m \u001b[0mself\u001b[0m\u001b[0;34m.\u001b[0m\u001b[0mreindex\u001b[0m\u001b[0;34m(\u001b[0m\u001b[0;34m**\u001b[0m\u001b[0;34m{\u001b[0m\u001b[0maxis_name\u001b[0m\u001b[0;34m:\u001b[0m \u001b[0mnew_axis\u001b[0m\u001b[0;34m}\u001b[0m\u001b[0;34m)\u001b[0m\u001b[0;34m\u001b[0m\u001b[0;34m\u001b[0m\u001b[0m\n\u001b[1;32m   3925\u001b[0m \u001b[0;34m\u001b[0m\u001b[0m\n",
      "\u001b[0;32m~/miniconda3/envs/ML_learn/lib/python3.6/site-packages/pandas/core/indexes/base.py\u001b[0m in \u001b[0;36mdrop\u001b[0;34m(self, labels, errors)\u001b[0m\n\u001b[1;32m   5285\u001b[0m         \u001b[0;32mif\u001b[0m \u001b[0mmask\u001b[0m\u001b[0;34m.\u001b[0m\u001b[0many\u001b[0m\u001b[0;34m(\u001b[0m\u001b[0;34m)\u001b[0m\u001b[0;34m:\u001b[0m\u001b[0;34m\u001b[0m\u001b[0;34m\u001b[0m\u001b[0m\n\u001b[1;32m   5286\u001b[0m             \u001b[0;32mif\u001b[0m \u001b[0merrors\u001b[0m \u001b[0;34m!=\u001b[0m \u001b[0;34m\"ignore\"\u001b[0m\u001b[0;34m:\u001b[0m\u001b[0;34m\u001b[0m\u001b[0;34m\u001b[0m\u001b[0m\n\u001b[0;32m-> 5287\u001b[0;31m                 \u001b[0;32mraise\u001b[0m \u001b[0mKeyError\u001b[0m\u001b[0;34m(\u001b[0m\u001b[0;34mf\"{labels[mask]} not found in axis\"\u001b[0m\u001b[0;34m)\u001b[0m\u001b[0;34m\u001b[0m\u001b[0;34m\u001b[0m\u001b[0m\n\u001b[0m\u001b[1;32m   5288\u001b[0m             \u001b[0mindexer\u001b[0m \u001b[0;34m=\u001b[0m \u001b[0mindexer\u001b[0m\u001b[0;34m[\u001b[0m\u001b[0;34m~\u001b[0m\u001b[0mmask\u001b[0m\u001b[0;34m]\u001b[0m\u001b[0;34m\u001b[0m\u001b[0;34m\u001b[0m\u001b[0m\n\u001b[1;32m   5289\u001b[0m         \u001b[0;32mreturn\u001b[0m \u001b[0mself\u001b[0m\u001b[0;34m.\u001b[0m\u001b[0mdelete\u001b[0m\u001b[0;34m(\u001b[0m\u001b[0mindexer\u001b[0m\u001b[0;34m)\u001b[0m\u001b[0;34m\u001b[0m\u001b[0;34m\u001b[0m\u001b[0m\n",
      "\u001b[0;31mKeyError\u001b[0m: \"['Age' 'Marital' 'Income_5Gp' 'Base_QRMethod_1' 'Base_QRMethod_10'\\n 'Base_QRMethod_11' 'Base_QRMethod_12' 'Base_QRMethod_13' 'M1_QReason_6'\\n 'M1_QReason_13' 'ID' 'Serial_Num' 'Unnamed: 0'] not found in axis\""
     ]
    }
   ],
   "source": [
    "# drop cols with > .5 missing values in one of the years\n",
    "qtw = qtw.drop(['Age', \n",
    "                'Marital',\n",
    "                'Income_5Gp',\n",
    "                'Base_QRMethod_1',\n",
    "                'Base_QRMethod_10',\n",
    "                'Base_QRMethod_11',\n",
    "                'Base_QRMethod_12',\n",
    "                'Base_QRMethod_13',\n",
    "                'M1_QReason_6',\n",
    "                'M1_QReason_13',\n",
    "                'ID',\n",
    "                'Serial_Num',\n",
    "                'Unnamed: 0'], axis=1)"
   ]
  },
  {
   "cell_type": "markdown",
   "id": "victorian-manchester",
   "metadata": {},
   "source": [
    "# one-hot encoded qtw dataframe"
   ]
  },
  {
   "cell_type": "code",
   "execution_count": 2,
   "id": "perceived-apache",
   "metadata": {},
   "outputs": [
    {
     "name": "stderr",
     "output_type": "stream",
     "text": [
      "/Users/ytf1997/miniconda3/envs/ML_learn/lib/python3.6/site-packages/IPython/core/interactiveshell.py:3072: DtypeWarning: Columns (3,12,15,42,43,44,49) have mixed types.Specify dtype option on import or set low_memory=False.\n",
      "  interactivity=interactivity, compiler=compiler, result=result)\n"
     ]
    }
   ],
   "source": [
    "import pandas as pd\n",
    "import matplotlib.pyplot as plt\n",
    "import seaborn as sns\n",
    "qtw = pd.read_csv(\"QTW14-19.csv\")\n",
    "# drop cols with > .5 missing values\n",
    "qtw = qtw.drop(['Children', \n",
    "                'Children_coliving',\n",
    "                'Income_since18',\n",
    "                'Base_QRMethod_5',\n",
    "                'Base_QRMethod_14',\n",
    "                'Base_QRMethod_15',\n",
    "                'Base_QRMethod_16',\n",
    "                'M1_QA_acc',\n",
    "                'M1_QReason_3',\n",
    "                'M1_QReason_8'], axis=1)\n",
    "# drop traj cols\n",
    "qtw = qtw[qtw.columns.drop(list(qtw.filter(regex='Traj')))]\n",
    "qtw = qtw[qtw.columns.drop(list(qtw.filter(regex='traj')))]\n",
    "# drop cols with > .5 missing values in one of the years\n",
    "qtw = qtw.drop(['Age', \n",
    "                'Marital',\n",
    "                'Income_5Gp',\n",
    "                'Base_QRMethod_1',\n",
    "                'Base_QRMethod_10',\n",
    "                'Base_QRMethod_11',\n",
    "                'Base_QRMethod_12',\n",
    "                'Base_QRMethod_13',\n",
    "                'M1_QReason_6',\n",
    "                'M1_QReason_13',\n",
    "                'ID',\n",
    "                'Serial_Num',\n",
    "                'Unnamed: 0'], axis=1)\n",
    "# remove ITT columns except M6_VQ_ITT\n",
    "m6_vq_itt = qtw[\"M6_VQ_ITT\"]\n",
    "qtw = qtw[qtw.columns.drop(list(qtw.filter(regex='M6_')))]\n",
    "qtw = qtw[qtw.columns.drop(list(qtw.filter(regex='_ITT')))]\n",
    "qtw[\"M6_VQ_ITT\"] = m6_vq_itt"
   ]
  },
  {
   "cell_type": "code",
   "execution_count": 3,
   "id": "educational-involvement",
   "metadata": {},
   "outputs": [],
   "source": [
    "import numpy as np\n",
    "import pandas as pd\n",
    "from sklearn.impute import KNNImputer\n",
    "from sklearn.preprocessing import MinMaxScaler\n",
    "\n",
    "df = qtw\n",
    "\n",
    "mm = MinMaxScaler()\n",
    "\n",
    "def find_category_mappings(df, variable):\n",
    "    return {k: i for i, k in enumerate(df[variable].dropna().unique(), 0)}\n",
    "\n",
    "def integer_encode(df , variable, ordinal_mapping):\n",
    "    df[variable] = df[variable].map(ordinal_mapping)\n",
    "\n",
    "mappin = dict()\n",
    "def imputation(df1 , cols):\n",
    "    df = df1.copy()\n",
    "    #Encoding dict &amp; Removing nan    \n",
    "    #mappin = dict()\n",
    "    for variable in cols:\n",
    "        mappings = find_category_mappings(df, variable)\n",
    "        mappin[variable] = mappings\n",
    "\n",
    "    #Apply mapping\n",
    "    for variable in cols:\n",
    "        integer_encode(df, variable, mappin[variable])  \n",
    "\n",
    "    #Minmaxscaler and KNN imputation \n",
    "    sca = mm.fit_transform(df)\n",
    "    knn_imputer = KNNImputer()\n",
    "    knn = knn_imputer.fit_transform(sca)\n",
    "    df.iloc[:,:] = mm.inverse_transform(knn)\n",
    "    for i in df.columns : \n",
    "        df[i] = round(df[i]).astype('int')\n",
    "\n",
    "    #Inverse transform\n",
    "    for i in cols:\n",
    "        inv_map = {v: k for k, v in mappin[i].items()}\n",
    "        df[i] = df[i].map(inv_map)\n",
    "    return df\n",
    "\n",
    "\n",
    "#Imputation\n",
    "qtw = imputation(qtw,qtw.select_dtypes(include = \"object\").columns.values.tolist())"
   ]
  },
  {
   "cell_type": "markdown",
   "id": "favorite-error",
   "metadata": {},
   "source": [
    "# VIF for cont. variables"
   ]
  },
  {
   "cell_type": "code",
   "execution_count": 4,
   "id": "pharmaceutical-mason",
   "metadata": {},
   "outputs": [],
   "source": [
    "cont_colnames = qtw.select_dtypes(exclude = \"object\").columns.values.tolist()\n",
    "qtw_cont = qtw[cont_colnames]"
   ]
  },
  {
   "cell_type": "code",
   "execution_count": 5,
   "id": "thrown-jurisdiction",
   "metadata": {},
   "outputs": [
    {
     "name": "stderr",
     "output_type": "stream",
     "text": [
      "/Users/ytf1997/miniconda3/envs/ML_learn/lib/python3.6/site-packages/statsmodels/regression/linear_model.py:1717: RuntimeWarning: invalid value encountered in double_scalars\n",
      "  return 1 - self.ssr/self.uncentered_tss\n"
     ]
    }
   ],
   "source": [
    "from statsmodels.stats.outliers_influence import variance_inflation_factor\n",
    "vif_data = pd.DataFrame()\n",
    "vif_data[\"feature\"] = qtw_cont.columns\n",
    "vif_data[\"VIF\"] = [variance_inflation_factor(qtw_cont.values, i)\n",
    "                          for i in range(len(qtw_cont.columns))]"
   ]
  },
  {
   "cell_type": "code",
   "execution_count": 6,
   "id": "exposed-chapter",
   "metadata": {},
   "outputs": [],
   "source": [
    "vif_data.to_excel(\"vif.xlsx\")"
   ]
  },
  {
   "cell_type": "code",
   "execution_count": 7,
   "id": "given-jason",
   "metadata": {},
   "outputs": [],
   "source": [
    "drop_names = vif_data[vif_data[\"VIF\"] >= 10][\"feature\"].tolist()\n",
    "qtw = qtw[qtw.columns.drop(drop_names)]"
   ]
  },
  {
   "cell_type": "code",
   "execution_count": 8,
   "id": "inclusive-april",
   "metadata": {},
   "outputs": [
    {
     "data": {
      "text/plain": [
       "['Base_QImportance',\n",
       " 'Base_QDifficulty',\n",
       " 'M3_QImportance',\n",
       " 'M3_QDifficulty',\n",
       " 'M3_QConfidence']"
      ]
     },
     "execution_count": 8,
     "metadata": {},
     "output_type": "execute_result"
    }
   ],
   "source": [
    "drop_names"
   ]
  },
  {
   "cell_type": "markdown",
   "id": "passive-marathon",
   "metadata": {},
   "source": [
    "# Cat. feature selection\n",
    "By chi-sq. test, p-value < .05"
   ]
  },
  {
   "cell_type": "code",
   "execution_count": 9,
   "id": "intelligent-definition",
   "metadata": {},
   "outputs": [],
   "source": [
    "cat_colnames = qtw.select_dtypes(include = \"object\").columns.values.tolist()\n",
    "qtw_cat = qtw[cat_colnames]"
   ]
  },
  {
   "cell_type": "code",
   "execution_count": 10,
   "id": "horizontal-juice",
   "metadata": {},
   "outputs": [],
   "source": [
    "# Import the function\n",
    "from scipy.stats import chi2_contingency\n",
    "#Testing the relationship\n",
    "\n",
    "chi2_check = []\n",
    "categorical_columns = qtw_cat.columns.values.tolist()\n",
    "for i in categorical_columns:\n",
    "    if chi2_contingency(pd.crosstab(qtw_cat['M6_VQ_ITT'], qtw_cat[i]))[1] < 0.05:\n",
    "        chi2_check.append('Reject Null Hypothesis')\n",
    "    else:\n",
    "        chi2_check.append('Fail to Reject Null Hypothesis')\n",
    "res = pd.DataFrame(data = [categorical_columns, chi2_check] \n",
    "             ).T \n",
    "res.columns = ['Column', 'Hypothesis']"
   ]
  },
  {
   "cell_type": "code",
   "execution_count": 11,
   "id": "aggregate-television",
   "metadata": {},
   "outputs": [
    {
     "name": "stdout",
     "output_type": "stream",
     "text": [
      "['Sex', 'Base_QRMethod_2', 'Base_QRMethod_3', 'Base_QRMethod_4', 'Base_QRMethod_6', 'Base_QRMethod_7', 'Base_QRMethod_8']\n"
     ]
    }
   ],
   "source": [
    "print(res[res['Hypothesis'] == \"Fail to Reject Null Hypothesis\"]['Column'].tolist())"
   ]
  },
  {
   "cell_type": "code",
   "execution_count": 12,
   "id": "advanced-palestine",
   "metadata": {},
   "outputs": [],
   "source": [
    "res.to_excel(\"cat_variables.xlsx\")"
   ]
  },
  {
   "cell_type": "code",
   "execution_count": 13,
   "id": "qualified-colombia",
   "metadata": {},
   "outputs": [],
   "source": [
    "drop_names = res[res['Hypothesis'] == \"Fail to Reject Null Hypothesis\"]['Column'].tolist()\n",
    "qtw = qtw[qtw.columns.drop(drop_names)]"
   ]
  },
  {
   "cell_type": "markdown",
   "id": "perceived-documentary",
   "metadata": {},
   "source": [
    "# LASSO"
   ]
  },
  {
   "cell_type": "code",
   "execution_count": 14,
   "id": "natural-reynolds",
   "metadata": {},
   "outputs": [],
   "source": [
    "qtw_encoded = pd.get_dummies(qtw, drop_first = True)"
   ]
  },
  {
   "cell_type": "code",
   "execution_count": 15,
   "id": "mexican-stadium",
   "metadata": {},
   "outputs": [
    {
     "data": {
      "text/plain": [
       "0       1\n",
       "1       0\n",
       "2       0\n",
       "3       0\n",
       "4       0\n",
       "       ..\n",
       "6583    0\n",
       "6584    0\n",
       "6585    1\n",
       "6586    0\n",
       "6587    0\n",
       "Name: M6_VQ_ITT_Abstinence, Length: 6588, dtype: uint8"
      ]
     },
     "execution_count": 15,
     "metadata": {},
     "output_type": "execute_result"
    }
   ],
   "source": [
    "from sklearn.linear_model import LogisticRegression\n",
    "X = qtw_encoded[qtw_encoded.columns.drop(list(qtw_encoded.filter(regex='M6_VQ_ITT')))]\n",
    "y = qtw_encoded[\"M6_VQ_ITT_Smoking\"]\n",
    "y = 1 - y\n",
    "y.rename(\"M6_VQ_ITT_Abstinence\")"
   ]
  },
  {
   "cell_type": "code",
   "execution_count": 16,
   "id": "colored-shoot",
   "metadata": {},
   "outputs": [],
   "source": [
    "log_reg = LogisticRegression(penalty='l1', solver='liblinear').fit(X, y)"
   ]
  },
  {
   "cell_type": "code",
   "execution_count": 17,
   "id": "seven-atlas",
   "metadata": {},
   "outputs": [],
   "source": [
    "lasso_df = pd.DataFrame({\"Features\": X.columns.values.tolist(),\n",
    "                    \"Coef\": log_reg.coef_[0].tolist()})"
   ]
  },
  {
   "cell_type": "code",
   "execution_count": 18,
   "id": "female-melissa",
   "metadata": {},
   "outputs": [],
   "source": [
    "lasso_df.to_excel(\"lasso.xlsx\")\n",
    "lasso_df[lasso_df[\"Coef\"] == 0].to_excel(\"lasso_dump.xlsx\")\n",
    "lasso_df[lasso_df[\"Coef\"] != 0].to_excel(\"lasso_subset.xlsx\")"
   ]
  },
  {
   "cell_type": "code",
   "execution_count": 19,
   "id": "answering-tunnel",
   "metadata": {},
   "outputs": [
    {
     "name": "stdout",
     "output_type": "stream",
     "text": [
      "['M0_R_P_c', 'Group_2015-AR', 'Group_2015-Leaflet', 'Group_2016-HAR', 'Group_2017-IM', 'Group_2019-B', 'District_living_Kowloon City', 'District_living_Kwai Tsing', 'District_living_Mainland', 'District_living_Shatin', 'District_living_Tsuen Wan', 'District_living_Wong Tai Sin', 'District_living_Yuen Long', 'Employment_Unemployed', 'Base_CpdGp_31+', 'Base_QA_time_within 6 months (but before the passing month)', 'Base_QA_time_within this year (but before the passing 6 months)', 'Base_Ready_In 60 days', 'Base_QRMethod_9_Use', 'M1_QA_Num_No quit attempt after joining QTW', 'M1_QA_Num_Twice', 'M1_QReason_4_No quit attempt after joining QTW', 'M1_QReason_5_Yes', 'M1_QReason_11_No quit attempt after joining QTW', 'M1_Withdrawal_1_Yes', 'M1_Withdrawal_2_No quit attempt after joining QTW', 'M1_Withdrawal_4_No quit attempt after joining QTW', 'M1_Withdrawal_4_Yes', 'M1_Withdrawal_5_No quit attempt after joining QTW', 'M1_Withdrawal_6_No quit attempt after joining QTW', 'M1_Withdrawal_7_Yes']\n"
     ]
    }
   ],
   "source": [
    "print(lasso_df[lasso_df[\"Coef\"] == 0][\"Features\"].tolist())"
   ]
  },
  {
   "cell_type": "code",
   "execution_count": 20,
   "id": "defined-brother",
   "metadata": {},
   "outputs": [],
   "source": [
    "drop_names = [\n",
    "    \"M0_R_P_c\",\n",
    "    \"M1_R_P_c\",\n",
    "    \"M2_R_P_c\",\n",
    "    \"M3_R_P_c\",\n",
    "    \"Group\",\n",
    "    \"District_living\",\n",
    "    \"Edu\",\n",
    "    \"Base_Time_1st_cig\",\n",
    "    \"Base_QA\",\n",
    "    \"Base_QRMethod_9\",\n",
    "    \"M1_QA\",\n",
    "    \"M1_QReason_2\",\n",
    "    \"M1_QReason_5\",\n",
    "    \"M1_QReason_7\",\n",
    "    \"M1_QReason_10\",\n",
    "    \"M1_QReason_11\",\n",
    "    \"M1_Withdrawal_1\",\n",
    "    \"M1_Withdrawal_2\",\n",
    "    \"M1_Withdrawal_4\",\n",
    "    \"M1_Withdrawal_6\",\n",
    "    \"M1_Withdrawal_7\",\n",
    "    \"M1_Withdrawal_9\",\n",
    "    \"M3_QA_acc\"\n",
    "]\n",
    "qtw = qtw[qtw.columns.drop(drop_names)]"
   ]
  },
  {
   "cell_type": "markdown",
   "id": "hundred-bangladesh",
   "metadata": {},
   "source": [
    "# save variables to pickle"
   ]
  },
  {
   "cell_type": "code",
   "execution_count": 21,
   "id": "settled-denver",
   "metadata": {},
   "outputs": [
    {
     "name": "stderr",
     "output_type": "stream",
     "text": [
      "/Users/ytf1997/miniconda3/envs/ML_learn/lib/python3.6/site-packages/IPython/core/interactiveshell.py:3072: DtypeWarning: Columns (3,12,15,42,43,44,49) have mixed types.Specify dtype option on import or set low_memory=False.\n",
      "  interactivity=interactivity, compiler=compiler, result=result)\n"
     ]
    }
   ],
   "source": [
    "select_columns = qtw.columns.values.tolist()\n",
    "qtw_orig = pd.read_csv(\"QTW14-19.csv\")\n",
    "\n",
    "qtw_subset = qtw_orig[select_columns]\n",
    "\n",
    "qtw_subset = qtw_subset[qtw_subset.columns.drop(list(qtw.filter(regex='M6_')))]\n",
    "qtw_subset[\"M6_VQ_ITT\"] = qtw_orig[\"M6_VQ_ITT\"]"
   ]
  },
  {
   "cell_type": "code",
   "execution_count": 22,
   "id": "balanced-convention",
   "metadata": {},
   "outputs": [
    {
     "data": {
      "text/plain": [
       "array(['Year', 'Age_5Gp', 'Housing', 'Employment', 'Base_CO', 'Base_HSI',\n",
       "       'Base_CpdGp', 'Base_Cpd', 'Base_Age_weekly_smoking',\n",
       "       'Base_QA_time', 'Base_Ready', 'Base_QConfidence', 'M1_Q', 'M1_Cpd',\n",
       "       'M1_QA_Num', 'M1_R50', 'M1_QReason_1', 'M1_QReason_4',\n",
       "       'M1_QReason_9', 'M1_QReason_12', 'M1_Withdrawal_3',\n",
       "       'M1_Withdrawal_5', 'M1_Withdrawal_8', 'M1_Withdrawal_10', 'M2_Q',\n",
       "       'M2_Cpd', 'M2_QA', 'M2_QA_acc', 'M2_R50', 'M3_Q', 'M3_Cpd',\n",
       "       'M3_QA', 'M3_R50', 'Arm', 'Treatment', 'M6_VQ_ITT'], dtype=object)"
      ]
     },
     "execution_count": 22,
     "metadata": {},
     "output_type": "execute_result"
    }
   ],
   "source": [
    "qtw_subset.columns.values"
   ]
  },
  {
   "cell_type": "code",
   "execution_count": 23,
   "id": "governing-conversion",
   "metadata": {},
   "outputs": [],
   "source": [
    "# save variables to pickle\n",
    "import pickle\n",
    "filename = \"variables.pickle\"\n",
    "with open(filename, 'wb') as f:\n",
    "    pickle.dump({\n",
    "        'qtw': qtw_subset\n",
    "    }, f)"
   ]
  },
  {
   "cell_type": "markdown",
   "id": "needed-scott",
   "metadata": {},
   "source": [
    "# get variables from pickle"
   ]
  },
  {
   "cell_type": "code",
   "execution_count": 25,
   "id": "essential-freight",
   "metadata": {},
   "outputs": [],
   "source": [
    "import pickle\n",
    "import pandas as pd\n",
    "\n",
    "with open('variables.pickle', 'rb') as f:\n",
    "    pic = pickle.load(f)\n",
    "# qtw_imputed = pic['qtw_imputed']\n",
    "qtw_encoded = pic['qtw_encoded']"
   ]
  },
  {
   "cell_type": "code",
   "execution_count": null,
   "id": "successful-porter",
   "metadata": {},
   "outputs": [],
   "source": []
  }
 ],
 "metadata": {
  "kernelspec": {
   "display_name": "Python 3",
   "language": "python",
   "name": "python3"
  },
  "language_info": {
   "codemirror_mode": {
    "name": "ipython",
    "version": 3
   },
   "file_extension": ".py",
   "mimetype": "text/x-python",
   "name": "python",
   "nbconvert_exporter": "python",
   "pygments_lexer": "ipython3",
   "version": "3.6.12"
  }
 },
 "nbformat": 4,
 "nbformat_minor": 5
}
