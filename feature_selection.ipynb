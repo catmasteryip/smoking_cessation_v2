{
 "cells": [
  {
   "cell_type": "markdown",
   "id": "fossil-formula",
   "metadata": {},
   "source": [
    "# read data"
   ]
  },
  {
   "cell_type": "code",
   "execution_count": 1,
   "id": "false-stuart",
   "metadata": {},
   "outputs": [],
   "source": [
    "import pandas as pd\n",
    "import matplotlib.pyplot as plt\n",
    "import seaborn as sns"
   ]
  },
  {
   "cell_type": "markdown",
   "id": "heavy-manitoba",
   "metadata": {},
   "source": [
    "# missing values over years (optional)"
   ]
  },
  {
   "cell_type": "code",
   "execution_count": 111,
   "id": "dynamic-squad",
   "metadata": {},
   "outputs": [],
   "source": [
    "qtw = pd.read_csv(\"QTW14-19.csv\")\n",
    "missing_values_over_yrs = qtw.drop('Year', axis = 1).isna().groupby(qtw.Year, sort=False).sum().reset_index() / len(qtw) * 100 > (100/12)"
   ]
  },
  {
   "cell_type": "code",
   "execution_count": 135,
   "id": "acting-bandwidth",
   "metadata": {},
   "outputs": [
    {
     "data": {
      "text/html": [
       "<div>\n",
       "<style scoped>\n",
       "    .dataframe tbody tr th:only-of-type {\n",
       "        vertical-align: middle;\n",
       "    }\n",
       "\n",
       "    .dataframe tbody tr th {\n",
       "        vertical-align: top;\n",
       "    }\n",
       "\n",
       "    .dataframe thead th {\n",
       "        text-align: right;\n",
       "    }\n",
       "</style>\n",
       "<table border=\"1\" class=\"dataframe\">\n",
       "  <thead>\n",
       "    <tr style=\"text-align: right;\">\n",
       "      <th></th>\n",
       "      <th>Unnamed: 0</th>\n",
       "      <th>Year</th>\n",
       "      <th>Group</th>\n",
       "      <th>Serial_Num</th>\n",
       "      <th>Age</th>\n",
       "      <th>Age_5Gp</th>\n",
       "      <th>Sex</th>\n",
       "      <th>District_living</th>\n",
       "      <th>Housing</th>\n",
       "      <th>Employment</th>\n",
       "      <th>...</th>\n",
       "      <th>TrajP_CC_Gp4</th>\n",
       "      <th>TrajP_CCA_Gp1</th>\n",
       "      <th>TrajP_CCA_Gp2</th>\n",
       "      <th>TrajP_CCA_Gp3</th>\n",
       "      <th>TrajP_CCA_Gp4</th>\n",
       "      <th>Group_traj_ITT</th>\n",
       "      <th>Group_traj_CC</th>\n",
       "      <th>Group_traj_CCA</th>\n",
       "      <th>Arm</th>\n",
       "      <th>ID</th>\n",
       "    </tr>\n",
       "    <tr>\n",
       "      <th>Treatment</th>\n",
       "      <th></th>\n",
       "      <th></th>\n",
       "      <th></th>\n",
       "      <th></th>\n",
       "      <th></th>\n",
       "      <th></th>\n",
       "      <th></th>\n",
       "      <th></th>\n",
       "      <th></th>\n",
       "      <th></th>\n",
       "      <th></th>\n",
       "      <th></th>\n",
       "      <th></th>\n",
       "      <th></th>\n",
       "      <th></th>\n",
       "      <th></th>\n",
       "      <th></th>\n",
       "      <th></th>\n",
       "      <th></th>\n",
       "      <th></th>\n",
       "      <th></th>\n",
       "    </tr>\n",
       "  </thead>\n",
       "  <tbody>\n",
       "    <tr>\n",
       "      <th>0</th>\n",
       "      <td>2896</td>\n",
       "      <td>2896</td>\n",
       "      <td>2896</td>\n",
       "      <td>2896</td>\n",
       "      <td>1810</td>\n",
       "      <td>2724</td>\n",
       "      <td>2895</td>\n",
       "      <td>2549</td>\n",
       "      <td>2352</td>\n",
       "      <td>2467</td>\n",
       "      <td>...</td>\n",
       "      <td>2896</td>\n",
       "      <td>2896</td>\n",
       "      <td>2896</td>\n",
       "      <td>2896</td>\n",
       "      <td>2896</td>\n",
       "      <td>2896</td>\n",
       "      <td>2896</td>\n",
       "      <td>2896</td>\n",
       "      <td>2896</td>\n",
       "      <td>2896</td>\n",
       "    </tr>\n",
       "    <tr>\n",
       "      <th>1</th>\n",
       "      <td>3692</td>\n",
       "      <td>3692</td>\n",
       "      <td>3692</td>\n",
       "      <td>3692</td>\n",
       "      <td>2591</td>\n",
       "      <td>3517</td>\n",
       "      <td>3692</td>\n",
       "      <td>3331</td>\n",
       "      <td>3105</td>\n",
       "      <td>3228</td>\n",
       "      <td>...</td>\n",
       "      <td>3692</td>\n",
       "      <td>3692</td>\n",
       "      <td>3692</td>\n",
       "      <td>3692</td>\n",
       "      <td>3692</td>\n",
       "      <td>3692</td>\n",
       "      <td>3692</td>\n",
       "      <td>3692</td>\n",
       "      <td>3692</td>\n",
       "      <td>3692</td>\n",
       "    </tr>\n",
       "  </tbody>\n",
       "</table>\n",
       "<p>2 rows × 137 columns</p>\n",
       "</div>"
      ],
      "text/plain": [
       "           Unnamed: 0  Year  Group  Serial_Num   Age  Age_5Gp   Sex  \\\n",
       "Treatment                                                             \n",
       "0                2896  2896   2896        2896  1810     2724  2895   \n",
       "1                3692  3692   3692        3692  2591     3517  3692   \n",
       "\n",
       "           District_living  Housing  Employment  ...  TrajP_CC_Gp4  \\\n",
       "Treatment                                        ...                 \n",
       "0                     2549     2352        2467  ...          2896   \n",
       "1                     3331     3105        3228  ...          3692   \n",
       "\n",
       "           TrajP_CCA_Gp1  TrajP_CCA_Gp2  TrajP_CCA_Gp3  TrajP_CCA_Gp4  \\\n",
       "Treatment                                                               \n",
       "0                   2896           2896           2896           2896   \n",
       "1                   3692           3692           3692           3692   \n",
       "\n",
       "           Group_traj_ITT  Group_traj_CC  Group_traj_CCA   Arm    ID  \n",
       "Treatment                                                             \n",
       "0                    2896           2896            2896  2896  2896  \n",
       "1                    3692           3692            3692  3692  3692  \n",
       "\n",
       "[2 rows x 137 columns]"
      ]
     },
     "execution_count": 135,
     "metadata": {},
     "output_type": "execute_result"
    }
   ],
   "source": [
    "qtw.groupby('Treatment').count()"
   ]
  },
  {
   "cell_type": "code",
   "execution_count": 112,
   "id": "common-checklist",
   "metadata": {},
   "outputs": [
    {
     "data": {
      "text/html": [
       "<div>\n",
       "<style scoped>\n",
       "    .dataframe tbody tr th:only-of-type {\n",
       "        vertical-align: middle;\n",
       "    }\n",
       "\n",
       "    .dataframe tbody tr th {\n",
       "        vertical-align: top;\n",
       "    }\n",
       "\n",
       "    .dataframe thead th {\n",
       "        text-align: right;\n",
       "    }\n",
       "</style>\n",
       "<table border=\"1\" class=\"dataframe\">\n",
       "  <thead>\n",
       "    <tr style=\"text-align: right;\">\n",
       "      <th></th>\n",
       "      <th>Year</th>\n",
       "      <th>Unnamed: 0</th>\n",
       "      <th>Group</th>\n",
       "      <th>Serial_Num</th>\n",
       "      <th>Age</th>\n",
       "      <th>Age_5Gp</th>\n",
       "      <th>Sex</th>\n",
       "      <th>District_living</th>\n",
       "      <th>Housing</th>\n",
       "      <th>Employment</th>\n",
       "      <th>...</th>\n",
       "      <th>TrajP_CCA_Gp1</th>\n",
       "      <th>TrajP_CCA_Gp2</th>\n",
       "      <th>TrajP_CCA_Gp3</th>\n",
       "      <th>TrajP_CCA_Gp4</th>\n",
       "      <th>Group_traj_ITT</th>\n",
       "      <th>Group_traj_CC</th>\n",
       "      <th>Group_traj_CCA</th>\n",
       "      <th>Arm</th>\n",
       "      <th>Treatment</th>\n",
       "      <th>ID</th>\n",
       "    </tr>\n",
       "  </thead>\n",
       "  <tbody>\n",
       "    <tr>\n",
       "      <th>0</th>\n",
       "      <td>False</td>\n",
       "      <td>False</td>\n",
       "      <td>False</td>\n",
       "      <td>False</td>\n",
       "      <td>False</td>\n",
       "      <td>False</td>\n",
       "      <td>False</td>\n",
       "      <td>False</td>\n",
       "      <td>False</td>\n",
       "      <td>False</td>\n",
       "      <td>...</td>\n",
       "      <td>False</td>\n",
       "      <td>False</td>\n",
       "      <td>False</td>\n",
       "      <td>False</td>\n",
       "      <td>False</td>\n",
       "      <td>False</td>\n",
       "      <td>False</td>\n",
       "      <td>False</td>\n",
       "      <td>False</td>\n",
       "      <td>False</td>\n",
       "    </tr>\n",
       "    <tr>\n",
       "      <th>1</th>\n",
       "      <td>False</td>\n",
       "      <td>False</td>\n",
       "      <td>False</td>\n",
       "      <td>False</td>\n",
       "      <td>False</td>\n",
       "      <td>False</td>\n",
       "      <td>False</td>\n",
       "      <td>False</td>\n",
       "      <td>False</td>\n",
       "      <td>False</td>\n",
       "      <td>...</td>\n",
       "      <td>False</td>\n",
       "      <td>False</td>\n",
       "      <td>False</td>\n",
       "      <td>False</td>\n",
       "      <td>False</td>\n",
       "      <td>False</td>\n",
       "      <td>False</td>\n",
       "      <td>False</td>\n",
       "      <td>False</td>\n",
       "      <td>False</td>\n",
       "    </tr>\n",
       "    <tr>\n",
       "      <th>2</th>\n",
       "      <td>False</td>\n",
       "      <td>False</td>\n",
       "      <td>False</td>\n",
       "      <td>False</td>\n",
       "      <td>False</td>\n",
       "      <td>False</td>\n",
       "      <td>False</td>\n",
       "      <td>False</td>\n",
       "      <td>False</td>\n",
       "      <td>False</td>\n",
       "      <td>...</td>\n",
       "      <td>False</td>\n",
       "      <td>False</td>\n",
       "      <td>False</td>\n",
       "      <td>False</td>\n",
       "      <td>False</td>\n",
       "      <td>False</td>\n",
       "      <td>False</td>\n",
       "      <td>False</td>\n",
       "      <td>False</td>\n",
       "      <td>False</td>\n",
       "    </tr>\n",
       "    <tr>\n",
       "      <th>3</th>\n",
       "      <td>False</td>\n",
       "      <td>False</td>\n",
       "      <td>False</td>\n",
       "      <td>False</td>\n",
       "      <td>False</td>\n",
       "      <td>False</td>\n",
       "      <td>False</td>\n",
       "      <td>False</td>\n",
       "      <td>False</td>\n",
       "      <td>False</td>\n",
       "      <td>...</td>\n",
       "      <td>False</td>\n",
       "      <td>False</td>\n",
       "      <td>False</td>\n",
       "      <td>False</td>\n",
       "      <td>False</td>\n",
       "      <td>False</td>\n",
       "      <td>False</td>\n",
       "      <td>False</td>\n",
       "      <td>False</td>\n",
       "      <td>False</td>\n",
       "    </tr>\n",
       "    <tr>\n",
       "      <th>4</th>\n",
       "      <td>False</td>\n",
       "      <td>False</td>\n",
       "      <td>False</td>\n",
       "      <td>False</td>\n",
       "      <td>True</td>\n",
       "      <td>False</td>\n",
       "      <td>False</td>\n",
       "      <td>False</td>\n",
       "      <td>False</td>\n",
       "      <td>False</td>\n",
       "      <td>...</td>\n",
       "      <td>False</td>\n",
       "      <td>False</td>\n",
       "      <td>False</td>\n",
       "      <td>False</td>\n",
       "      <td>False</td>\n",
       "      <td>False</td>\n",
       "      <td>False</td>\n",
       "      <td>False</td>\n",
       "      <td>False</td>\n",
       "      <td>False</td>\n",
       "    </tr>\n",
       "    <tr>\n",
       "      <th>5</th>\n",
       "      <td>False</td>\n",
       "      <td>False</td>\n",
       "      <td>False</td>\n",
       "      <td>False</td>\n",
       "      <td>True</td>\n",
       "      <td>False</td>\n",
       "      <td>False</td>\n",
       "      <td>False</td>\n",
       "      <td>False</td>\n",
       "      <td>False</td>\n",
       "      <td>...</td>\n",
       "      <td>False</td>\n",
       "      <td>False</td>\n",
       "      <td>False</td>\n",
       "      <td>False</td>\n",
       "      <td>False</td>\n",
       "      <td>False</td>\n",
       "      <td>False</td>\n",
       "      <td>False</td>\n",
       "      <td>False</td>\n",
       "      <td>False</td>\n",
       "    </tr>\n",
       "  </tbody>\n",
       "</table>\n",
       "<p>6 rows × 138 columns</p>\n",
       "</div>"
      ],
      "text/plain": [
       "    Year  Unnamed: 0  Group  Serial_Num    Age  Age_5Gp    Sex  \\\n",
       "0  False       False  False       False  False    False  False   \n",
       "1  False       False  False       False  False    False  False   \n",
       "2  False       False  False       False  False    False  False   \n",
       "3  False       False  False       False  False    False  False   \n",
       "4  False       False  False       False   True    False  False   \n",
       "5  False       False  False       False   True    False  False   \n",
       "\n",
       "   District_living  Housing  Employment  ...  TrajP_CCA_Gp1  TrajP_CCA_Gp2  \\\n",
       "0            False    False       False  ...          False          False   \n",
       "1            False    False       False  ...          False          False   \n",
       "2            False    False       False  ...          False          False   \n",
       "3            False    False       False  ...          False          False   \n",
       "4            False    False       False  ...          False          False   \n",
       "5            False    False       False  ...          False          False   \n",
       "\n",
       "   TrajP_CCA_Gp3  TrajP_CCA_Gp4  Group_traj_ITT  Group_traj_CC  \\\n",
       "0          False          False           False          False   \n",
       "1          False          False           False          False   \n",
       "2          False          False           False          False   \n",
       "3          False          False           False          False   \n",
       "4          False          False           False          False   \n",
       "5          False          False           False          False   \n",
       "\n",
       "   Group_traj_CCA    Arm  Treatment     ID  \n",
       "0           False  False      False  False  \n",
       "1           False  False      False  False  \n",
       "2           False  False      False  False  \n",
       "3           False  False      False  False  \n",
       "4           False  False      False  False  \n",
       "5           False  False      False  False  \n",
       "\n",
       "[6 rows x 138 columns]"
      ]
     },
     "execution_count": 112,
     "metadata": {},
     "output_type": "execute_result"
    }
   ],
   "source": [
    "missing_values_over_yrs"
   ]
  },
  {
   "cell_type": "code",
   "execution_count": 77,
   "id": "recovered-community",
   "metadata": {},
   "outputs": [],
   "source": [
    "missing_values_over_yrs.to_excel(\"missing_values_over_yrs.xlsx\")"
   ]
  },
  {
   "cell_type": "code",
   "execution_count": 34,
   "id": "treated-joyce",
   "metadata": {},
   "outputs": [],
   "source": [
    "# drop cols with > .5 missing values in one of the years\n",
    "qtw = qtw.drop(['Age', \n",
    "                'Marital',\n",
    "                'Income_5Gp',\n",
    "                'Base_QRMethod_1',\n",
    "                'Base_QRMethod_10',\n",
    "                'Base_QRMethod_11',\n",
    "                'Base_QRMethod_12',\n",
    "                'Base_QRMethod_13',\n",
    "                'M1_QReason_6',\n",
    "                'M1_QReason_13',\n",
    "                'ID',\n",
    "                'Serial_Num',\n",
    "                'Unnamed: 0'], axis=1)"
   ]
  },
  {
   "cell_type": "markdown",
   "id": "considerable-wallpaper",
   "metadata": {},
   "source": [
    "# one-hot encoded qtw dataframe"
   ]
  },
  {
   "cell_type": "code",
   "execution_count": 2,
   "id": "medical-lighter",
   "metadata": {},
   "outputs": [
    {
     "name": "stderr",
     "output_type": "stream",
     "text": [
      "/Users/ytf1997/miniconda3/envs/ML_learn/lib/python3.6/site-packages/IPython/core/interactiveshell.py:3072: DtypeWarning: Columns (3,12,15,42,43,44,49) have mixed types.Specify dtype option on import or set low_memory=False.\n",
      "  interactivity=interactivity, compiler=compiler, result=result)\n"
     ]
    }
   ],
   "source": [
    "import pandas as pd\n",
    "import matplotlib.pyplot as plt\n",
    "import seaborn as sns\n",
    "qtw = pd.read_csv(\"QTW14-19.csv\")\n",
    "# drop cols with > .5 missing values\n",
    "qtw = qtw.drop(['Children', \n",
    "                'Children_coliving',\n",
    "                'Income_since18',\n",
    "                'Base_QRMethod_5',\n",
    "                'Base_QRMethod_14',\n",
    "                'Base_QRMethod_15',\n",
    "                'Base_QRMethod_16',\n",
    "                'M1_QA_acc',\n",
    "                'M1_QReason_3',\n",
    "                'M1_QReason_8'], axis=1)\n",
    "# drop traj cols\n",
    "qtw = qtw[qtw.columns.drop(list(qtw.filter(regex='Traj')))]\n",
    "qtw = qtw[qtw.columns.drop(list(qtw.filter(regex='traj')))]\n",
    "# drop cols with > .5 missing values in one of the years\n",
    "qtw = qtw.drop(['Age', \n",
    "                'Marital',\n",
    "                'Income_5Gp',\n",
    "                'Base_QRMethod_1',\n",
    "                'Base_QRMethod_10',\n",
    "                'Base_QRMethod_11',\n",
    "                'Base_QRMethod_12',\n",
    "                'Base_QRMethod_13',\n",
    "                'M1_QReason_6',\n",
    "                'M1_QReason_13',\n",
    "                'ID',\n",
    "                'Serial_Num',\n",
    "                'Unnamed: 0'], axis=1)\n",
    "# remove ITT columns except M6_VQ_ITT\n",
    "m6_vq_itt = qtw[\"M6_VQ_ITT\"]\n",
    "qtw = qtw[qtw.columns.drop(list(qtw.filter(regex='M6_')))]\n",
    "qtw = qtw[qtw.columns.drop(list(qtw.filter(regex='_ITT')))]\n",
    "qtw[\"M6_VQ_ITT\"] = m6_vq_itt\n",
    "# remove _QA cols\n",
    "# qtw = qtw[qtw.columns.drop(list(qtw.filter(regex='_QA')))]\n",
    "# remove year, arm and treatment cols\n",
    "qtw = qtw.drop(['Year', 'Arm', 'Treatment','Group'], axis = 1)"
   ]
  },
  {
   "cell_type": "code",
   "execution_count": 3,
   "id": "norwegian-infection",
   "metadata": {},
   "outputs": [
    {
     "data": {
      "text/plain": [
       "67"
      ]
     },
     "execution_count": 3,
     "metadata": {},
     "output_type": "execute_result"
    }
   ],
   "source": [
    "len(qtw.columns.values)"
   ]
  },
  {
   "cell_type": "markdown",
   "id": "coordinated-location",
   "metadata": {},
   "source": [
    "# KNN imputation missing data"
   ]
  },
  {
   "cell_type": "code",
   "execution_count": 6,
   "id": "arranged-theorem",
   "metadata": {},
   "outputs": [],
   "source": [
    "import numpy as np\n",
    "import pandas as pd\n",
    "from sklearn.impute import KNNImputer\n",
    "from sklearn.preprocessing import MinMaxScaler\n",
    "import math\n",
    "\n",
    "df = qtw\n",
    "\n",
    "mm = MinMaxScaler()\n",
    "\n",
    "def find_category_mappings(df, variable):\n",
    "    return {k: i for i, k in enumerate(df[variable].dropna().unique(), 0)}\n",
    "\n",
    "def integer_encode(df , variable, ordinal_mapping):\n",
    "    df[variable] = df[variable].map(ordinal_mapping)\n",
    "\n",
    "mappin = dict()\n",
    "def imputation(df1 , cols):\n",
    "    df = df1.copy()\n",
    "    #Encoding dict &amp; Removing nan    \n",
    "    #mappin = dict()\n",
    "    for variable in cols:\n",
    "        mappings = find_category_mappings(df, variable)\n",
    "        mappin[variable] = mappings\n",
    "\n",
    "    #Apply mapping\n",
    "    for variable in cols:\n",
    "        integer_encode(df, variable, mappin[variable])  \n",
    "\n",
    "    #Minmaxscaler and KNN imputation \n",
    "    sca = mm.fit_transform(df)\n",
    "    knn_imputer = KNNImputer(n_neighbors = int(math.sqrt(len(df))))\n",
    "    knn = knn_imputer.fit_transform(sca)\n",
    "    df.iloc[:,:] = mm.inverse_transform(knn)\n",
    "    for i in df.columns : \n",
    "        df[i] = round(df[i]).astype('int')\n",
    "\n",
    "    #Inverse transform\n",
    "    for i in cols:\n",
    "        inv_map = {v: k for k, v in mappin[i].items()}\n",
    "        df[i] = df[i].map(inv_map)\n",
    "    return df\n",
    "\n",
    "\n",
    "#Imputation\n",
    "qtw = imputation(qtw,qtw.select_dtypes(include = \"object\").columns.values.tolist())"
   ]
  },
  {
   "cell_type": "markdown",
   "id": "disturbed-dependence",
   "metadata": {},
   "source": [
    "# VIF for cont. variables"
   ]
  },
  {
   "cell_type": "code",
   "execution_count": 7,
   "id": "referenced-macro",
   "metadata": {},
   "outputs": [],
   "source": [
    "cont_colnames = qtw.select_dtypes(exclude = \"object\").columns.values.tolist()\n",
    "qtw_cont = qtw[cont_colnames]"
   ]
  },
  {
   "cell_type": "code",
   "execution_count": 8,
   "id": "absent-forth",
   "metadata": {},
   "outputs": [
    {
     "name": "stderr",
     "output_type": "stream",
     "text": [
      "/Users/ytf1997/miniconda3/envs/ML_learn/lib/python3.6/site-packages/statsmodels/regression/linear_model.py:1717: RuntimeWarning: invalid value encountered in double_scalars\n",
      "  return 1 - self.ssr/self.uncentered_tss\n"
     ]
    }
   ],
   "source": [
    "from statsmodels.stats.outliers_influence import variance_inflation_factor\n",
    "vif_data = pd.DataFrame()\n",
    "vif_data[\"feature\"] = qtw_cont.columns\n",
    "vif_data[\"VIF\"] = [variance_inflation_factor(qtw_cont.values, i)\n",
    "                          for i in range(len(qtw_cont.columns))]"
   ]
  },
  {
   "cell_type": "code",
   "execution_count": 9,
   "id": "august-harvest",
   "metadata": {},
   "outputs": [],
   "source": [
    "vif_data.to_excel(\"vifv3.xlsx\")"
   ]
  },
  {
   "cell_type": "code",
   "execution_count": 10,
   "id": "raising-composite",
   "metadata": {},
   "outputs": [],
   "source": [
    "drop_names = vif_data[vif_data[\"VIF\"] >= 10][\"feature\"].tolist()\n",
    "qtw = qtw[qtw.columns.drop(drop_names)]"
   ]
  },
  {
   "cell_type": "code",
   "execution_count": 11,
   "id": "oriental-photographer",
   "metadata": {},
   "outputs": [
    {
     "data": {
      "text/plain": [
       "['Base_QImportance',\n",
       " 'Base_QDifficulty',\n",
       " 'M3_QImportance',\n",
       " 'M3_QDifficulty',\n",
       " 'M3_QConfidence']"
      ]
     },
     "execution_count": 11,
     "metadata": {},
     "output_type": "execute_result"
    }
   ],
   "source": [
    "drop_names"
   ]
  },
  {
   "cell_type": "code",
   "execution_count": 12,
   "id": "renewable-green",
   "metadata": {},
   "outputs": [
    {
     "data": {
      "text/plain": [
       "62"
      ]
     },
     "execution_count": 12,
     "metadata": {},
     "output_type": "execute_result"
    }
   ],
   "source": [
    "len(qtw.columns.values)"
   ]
  },
  {
   "cell_type": "markdown",
   "id": "deluxe-honey",
   "metadata": {},
   "source": [
    "# Cat. feature selection\n",
    "By chi-sq. test, only keep features that have p-value < .05"
   ]
  },
  {
   "cell_type": "code",
   "execution_count": 13,
   "id": "sublime-kenya",
   "metadata": {},
   "outputs": [],
   "source": [
    "cat_colnames = qtw.select_dtypes(include = \"object\").columns.values.tolist()\n",
    "qtw_cat = qtw[cat_colnames]"
   ]
  },
  {
   "cell_type": "code",
   "execution_count": 14,
   "id": "forbidden-circular",
   "metadata": {},
   "outputs": [],
   "source": [
    "# Import the function\n",
    "from scipy.stats import chi2_contingency\n",
    "#Testing the relationship\n",
    "\n",
    "chi2_check = []\n",
    "categorical_columns = qtw_cat.columns.values.tolist()\n",
    "for i in categorical_columns:\n",
    "    if chi2_contingency(pd.crosstab(qtw_cat['M6_VQ_ITT'], qtw_cat[i]))[1] < 0.05:\n",
    "        chi2_check.append('Reject Null Hypothesis')\n",
    "    else:\n",
    "        chi2_check.append('Fail to Reject Null Hypothesis')\n",
    "res = pd.DataFrame(data = [categorical_columns, chi2_check] \n",
    "             ).T \n",
    "res.columns = ['Column', 'Hypothesis']"
   ]
  },
  {
   "cell_type": "code",
   "execution_count": 15,
   "id": "alike-dutch",
   "metadata": {},
   "outputs": [
    {
     "name": "stdout",
     "output_type": "stream",
     "text": [
      "['Sex', 'Base_QRMethod_2', 'Base_QRMethod_3', 'Base_QRMethod_4', 'Base_QRMethod_6', 'Base_QRMethod_7', 'Base_QRMethod_8']\n"
     ]
    }
   ],
   "source": [
    "print(res[res['Hypothesis'] == \"Fail to Reject Null Hypothesis\"]['Column'].tolist())"
   ]
  },
  {
   "cell_type": "code",
   "execution_count": 16,
   "id": "productive-holocaust",
   "metadata": {},
   "outputs": [],
   "source": [
    "res.to_excel(\"cat_variables.xlsx\")"
   ]
  },
  {
   "cell_type": "code",
   "execution_count": 17,
   "id": "global-charity",
   "metadata": {},
   "outputs": [],
   "source": [
    "drop_names = res[res['Hypothesis'] == \"Fail to Reject Null Hypothesis\"]['Column'].tolist()\n",
    "qtw = qtw[qtw.columns.drop(drop_names)]"
   ]
  },
  {
   "cell_type": "code",
   "execution_count": 18,
   "id": "acknowledged-concentration",
   "metadata": {},
   "outputs": [
    {
     "data": {
      "text/plain": [
       "55"
      ]
     },
     "execution_count": 18,
     "metadata": {},
     "output_type": "execute_result"
    }
   ],
   "source": [
    "len(qtw.columns.values)"
   ]
  },
  {
   "cell_type": "markdown",
   "id": "bound-specialist",
   "metadata": {},
   "source": [
    "# LASSO"
   ]
  },
  {
   "cell_type": "code",
   "execution_count": 19,
   "id": "hispanic-uganda",
   "metadata": {},
   "outputs": [],
   "source": [
    "qtw_encoded = pd.get_dummies(qtw, drop_first = True)"
   ]
  },
  {
   "cell_type": "code",
   "execution_count": 20,
   "id": "imported-railway",
   "metadata": {},
   "outputs": [
    {
     "data": {
      "text/plain": [
       "array(['Age_5Gp', 'District_living', 'Housing', 'Employment', 'Edu',\n",
       "       'Base_CO', 'Base_Time_1st_cig', 'Base_HSI', 'Base_CpdGp',\n",
       "       'Base_Cpd', 'Base_Age_weekly_smoking', 'Base_QA', 'Base_QA_time',\n",
       "       'Base_Ready', 'Base_QConfidence', 'M0_R_P_c', 'Base_QRMethod_9',\n",
       "       'M1_Q', 'M1_Cpd', 'M1_QA', 'M1_QA_Num', 'M1_R50', 'M1_R_P_c',\n",
       "       'M1_QReason_1', 'M1_QReason_2', 'M1_QReason_4', 'M1_QReason_5',\n",
       "       'M1_QReason_7', 'M1_QReason_9', 'M1_QReason_10', 'M1_QReason_11',\n",
       "       'M1_QReason_12', 'M1_Withdrawal_1', 'M1_Withdrawal_2',\n",
       "       'M1_Withdrawal_3', 'M1_Withdrawal_4', 'M1_Withdrawal_5',\n",
       "       'M1_Withdrawal_6', 'M1_Withdrawal_7', 'M1_Withdrawal_8',\n",
       "       'M1_Withdrawal_9', 'M1_Withdrawal_10', 'M2_Q', 'M2_Cpd', 'M2_QA',\n",
       "       'M2_QA_acc', 'M2_R50', 'M2_R_P_c', 'M3_Q', 'M3_Cpd', 'M3_QA',\n",
       "       'M3_QA_acc', 'M3_R50', 'M3_R_P_c', 'M6_VQ_ITT'], dtype=object)"
      ]
     },
     "execution_count": 20,
     "metadata": {},
     "output_type": "execute_result"
    }
   ],
   "source": [
    "qtw.columns.values"
   ]
  },
  {
   "cell_type": "code",
   "execution_count": 21,
   "id": "square-explorer",
   "metadata": {},
   "outputs": [
    {
     "data": {
      "text/plain": [
       "0       1\n",
       "1       0\n",
       "2       0\n",
       "3       0\n",
       "4       0\n",
       "       ..\n",
       "6583    0\n",
       "6584    0\n",
       "6585    1\n",
       "6586    0\n",
       "6587    0\n",
       "Name: M6_VQ_ITT_Abstinence, Length: 6588, dtype: uint8"
      ]
     },
     "execution_count": 21,
     "metadata": {},
     "output_type": "execute_result"
    }
   ],
   "source": [
    "from sklearn.linear_model import LogisticRegression\n",
    "X = qtw_encoded[qtw_encoded.columns.drop(list(qtw_encoded.filter(regex='M6_VQ_ITT')))]\n",
    "y = qtw_encoded[\"M6_VQ_ITT_Smoking\"]\n",
    "y = 1 - y\n",
    "y.rename(\"M6_VQ_ITT_Abstinence\")"
   ]
  },
  {
   "cell_type": "code",
   "execution_count": 22,
   "id": "independent-cosmetic",
   "metadata": {},
   "outputs": [],
   "source": [
    "log_reg = LogisticRegression(penalty='l1', solver='liblinear').fit(X, y)"
   ]
  },
  {
   "cell_type": "code",
   "execution_count": 23,
   "id": "shared-amber",
   "metadata": {},
   "outputs": [],
   "source": [
    "lasso_df = pd.DataFrame({\"Features\": X.columns.values.tolist(),\n",
    "                    \"Coef\": log_reg.coef_[0].tolist()})"
   ]
  },
  {
   "cell_type": "code",
   "execution_count": 24,
   "id": "married-tours",
   "metadata": {},
   "outputs": [],
   "source": [
    "lasso_df.to_excel(\"lasso.xlsx\")\n",
    "lasso_df[lasso_df[\"Coef\"] == 0].to_excel(\"lasso_dump.xlsx\")\n",
    "lasso_df[lasso_df[\"Coef\"] != 0].to_excel(\"lasso_subset.xlsx\")"
   ]
  },
  {
   "cell_type": "code",
   "execution_count": 25,
   "id": "detailed-watts",
   "metadata": {},
   "outputs": [
    {
     "name": "stdout",
     "output_type": "stream",
     "text": [
      "['M0_R_P_c', 'District_living_Kowloon City', 'District_living_Kwai Tsing', 'District_living_Mainland', 'District_living_Shatin', 'District_living_Wong Tai Sin', 'Base_CpdGp_31+', 'Base_QA_time_within 6 months (but before the passing month)', 'Base_Ready_In 60 days', 'Base_QRMethod_9_Use', 'M1_QA_Num_Twice', 'M1_QReason_4_No quit attempt after joining QTW', 'M1_QReason_5_No quit attempt after joining QTW', 'M1_QReason_5_Yes', 'M1_QReason_9_No quit attempt after joining QTW', 'M1_QReason_10_No quit attempt after joining QTW', 'M1_QReason_11_No quit attempt after joining QTW', 'M1_Withdrawal_1_Yes', 'M1_Withdrawal_3_No quit attempt after joining QTW', 'M1_Withdrawal_4_No quit attempt after joining QTW', 'M1_Withdrawal_4_Yes', 'M1_Withdrawal_5_No quit attempt after joining QTW', 'M1_Withdrawal_7_Yes', 'M2_QA_Yes']\n"
     ]
    }
   ],
   "source": [
    "print(lasso_df[lasso_df[\"Coef\"] == 0][\"Features\"].tolist())"
   ]
  },
  {
   "cell_type": "code",
   "execution_count": 177,
   "id": "hydraulic-evidence",
   "metadata": {},
   "outputs": [],
   "source": [
    "drop_names = [\n",
    "    \"M0_R_P_c\",\n",
    "    \"M1_R_P_c\",\n",
    "    \"M2_R_P_c\",\n",
    "    \"M3_R_P_c\",\n",
    "    \"Edu\",\n",
    "    \"Base_Time_1st_cig\",\n",
    "    \"Base_QA\",\n",
    "    \"Base_QRMethod_9\",\n",
    "    \"M1_QA\",\n",
    "    \"M1_QReason_2\",\n",
    "    \"M1_QReason_5\",\n",
    "    \"M1_QReason_7\",\n",
    "    \"M1_QReason_10\",\n",
    "    \"M1_QReason_11\",\n",
    "    \"M1_Withdrawal_1\",\n",
    "    \"M1_Withdrawal_2\",\n",
    "    \"M1_Withdrawal_4\",\n",
    "    \"M1_Withdrawal_6\",\n",
    "    \"M1_Withdrawal_7\",\n",
    "    \"M1_Withdrawal_9\",\n",
    "    \"M3_QA_acc\"\n",
    "]\n",
    "qtw = qtw[qtw.columns.drop(drop_names)]"
   ]
  },
  {
   "cell_type": "markdown",
   "id": "corresponding-costa",
   "metadata": {},
   "source": [
    "# save variables to pickle"
   ]
  },
  {
   "cell_type": "code",
   "execution_count": 178,
   "id": "younger-program",
   "metadata": {},
   "outputs": [
    {
     "name": "stderr",
     "output_type": "stream",
     "text": [
      "/Users/ytf1997/miniconda3/envs/ML_learn/lib/python3.6/site-packages/IPython/core/interactiveshell.py:3072: DtypeWarning: Columns (3,12,15,42,43,44,49) have mixed types.Specify dtype option on import or set low_memory=False.\n",
      "  interactivity=interactivity, compiler=compiler, result=result)\n"
     ]
    }
   ],
   "source": [
    "select_columns = qtw.columns.values.tolist()\n",
    "qtw_orig = pd.read_csv(\"QTW14-19.csv\")\n",
    "\n",
    "qtw_subset = qtw_orig[select_columns]\n",
    "\n",
    "qtw_subset = qtw_subset[qtw_subset.columns.drop(list(qtw.filter(regex='M6_')))]\n",
    "qtw_subset[\"M6_VQ_ITT\"] = qtw_orig[\"M6_VQ_ITT\"]"
   ]
  },
  {
   "cell_type": "code",
   "execution_count": 180,
   "id": "gross-january",
   "metadata": {},
   "outputs": [
    {
     "data": {
      "text/plain": [
       "['Age_5Gp',\n",
       " 'Housing',\n",
       " 'Employment',\n",
       " 'Base_CO',\n",
       " 'Base_HSI',\n",
       " 'Base_CpdGp',\n",
       " 'Base_Cpd',\n",
       " 'Base_Age_weekly_smoking',\n",
       " 'Base_QA_time',\n",
       " 'Base_Ready',\n",
       " 'Base_QConfidence',\n",
       " 'Base_QRMethod_6',\n",
       " 'M1_Q',\n",
       " 'M1_Cpd',\n",
       " 'M1_QA_Num',\n",
       " 'M1_R50',\n",
       " 'M1_QReason_1',\n",
       " 'M1_QReason_4',\n",
       " 'M1_QReason_9',\n",
       " 'M1_QReason_12',\n",
       " 'M1_Withdrawal_3',\n",
       " 'M1_Withdrawal_5',\n",
       " 'M1_Withdrawal_8',\n",
       " 'M1_Withdrawal_10',\n",
       " 'M2_Q',\n",
       " 'M2_Cpd',\n",
       " 'M2_QA',\n",
       " 'M2_QA_acc',\n",
       " 'M2_R50',\n",
       " 'M3_Q',\n",
       " 'M3_Cpd',\n",
       " 'M3_QA',\n",
       " 'M3_R50',\n",
       " 'M6_VQ_ITT']"
      ]
     },
     "execution_count": 180,
     "metadata": {},
     "output_type": "execute_result"
    }
   ],
   "source": [
    "qtw_subset.columns.values.tolist()"
   ]
  },
  {
   "cell_type": "code",
   "execution_count": 181,
   "id": "initial-premiere",
   "metadata": {},
   "outputs": [],
   "source": [
    "# save variables to pickle\n",
    "import pickle\n",
    "filename = \"variables.pickle\"\n",
    "with open(filename, 'wb') as f:\n",
    "    pickle.dump({\n",
    "        'qtw': qtw_subset\n",
    "    }, f)"
   ]
  },
  {
   "cell_type": "markdown",
   "id": "bound-jordan",
   "metadata": {},
   "source": [
    "# get variables from pickle"
   ]
  },
  {
   "cell_type": "code",
   "execution_count": 25,
   "id": "earned-douglas",
   "metadata": {},
   "outputs": [],
   "source": [
    "import pickle\n",
    "import pandas as pd\n",
    "\n",
    "with open('variables.pickle', 'rb') as f:\n",
    "    pic = pickle.load(f)\n",
    "# qtw_imputed = pic['qtw_imputed']\n",
    "qtw_encoded = pic['qtw_encoded']"
   ]
  },
  {
   "cell_type": "code",
   "execution_count": null,
   "id": "universal-script",
   "metadata": {},
   "outputs": [],
   "source": []
  }
 ],
 "metadata": {
  "kernelspec": {
   "display_name": "Python 3",
   "language": "python",
   "name": "python3"
  },
  "language_info": {
   "codemirror_mode": {
    "name": "ipython",
    "version": 3
   },
   "file_extension": ".py",
   "mimetype": "text/x-python",
   "name": "python",
   "nbconvert_exporter": "python",
   "pygments_lexer": "ipython3",
   "version": "3.6.12"
  }
 },
 "nbformat": 4,
 "nbformat_minor": 5
}
