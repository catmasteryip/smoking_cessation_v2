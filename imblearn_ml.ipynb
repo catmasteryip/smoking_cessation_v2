{
 "cells": [
  {
   "cell_type": "markdown",
   "id": "fifteen-manor",
   "metadata": {},
   "source": [
    "# get data from pickle"
   ]
  },
  {
   "cell_type": "code",
   "execution_count": 13,
   "id": "proved-scale",
   "metadata": {},
   "outputs": [],
   "source": [
    "import pickle\n",
    "import pandas as pd\n",
    "import matplotlib.pyplot as plt\n",
    "import seaborn as sns\n",
    "import xgboost as xgb\n",
    "from sklearn.impute import KNNImputer\n",
    "from sklearn.model_selection import train_test_split"
   ]
  },
  {
   "cell_type": "code",
   "execution_count": 14,
   "id": "correct-ecuador",
   "metadata": {},
   "outputs": [],
   "source": [
    "with open('variables.pickle', 'rb') as f:\n",
    "    pic = pickle.load(f)\n",
    "qtw = pic[\"qtw\"]\n",
    "qtw.to_excel(\"qtw.subset.xlsx\", index = False)"
   ]
  },
  {
   "cell_type": "markdown",
   "id": "brutal-begin",
   "metadata": {},
   "source": [
    "# set column names"
   ]
  },
  {
   "cell_type": "code",
   "execution_count": 15,
   "id": "lucky-charge",
   "metadata": {},
   "outputs": [],
   "source": [
    "column_names = qtw.columns.values.tolist()\n",
    "base_cols = [column_name for column_name in column_names if \"M1\" not in column_name and \"M2\" not in column_name and \"M3\" not in column_name and \"M6\" not in column_name]\n",
    "m1_cols = base_cols + [column_name for column_name in column_names if \"M1\" in column_name]\n",
    "m2_cols = m1_cols + [column_name for column_name in column_names if \"M2\" in column_name]\n",
    "m3_cols = m2_cols + [column_name for column_name in column_names if \"M3\" in column_name]"
   ]
  },
  {
   "cell_type": "code",
   "execution_count": 16,
   "id": "separate-impression",
   "metadata": {},
   "outputs": [
    {
     "data": {
      "text/plain": [
       "['Age_5Gp',\n",
       " 'Housing',\n",
       " 'Employment',\n",
       " 'Base_CO',\n",
       " 'Base_HSI',\n",
       " 'Base_CpdGp',\n",
       " 'Base_Cpd',\n",
       " 'Base_Age_weekly_smoking',\n",
       " 'Base_QA_time',\n",
       " 'Base_Ready',\n",
       " 'Base_QConfidence',\n",
       " 'Base_QRMethod_6',\n",
       " 'M1_Q',\n",
       " 'M1_Cpd',\n",
       " 'M1_QA_Num',\n",
       " 'M1_R50',\n",
       " 'M1_QReason_1',\n",
       " 'M1_QReason_4',\n",
       " 'M1_QReason_9',\n",
       " 'M1_QReason_12',\n",
       " 'M1_Withdrawal_3',\n",
       " 'M1_Withdrawal_5',\n",
       " 'M1_Withdrawal_8',\n",
       " 'M1_Withdrawal_10',\n",
       " 'M2_Q',\n",
       " 'M2_Cpd',\n",
       " 'M2_QA',\n",
       " 'M2_QA_acc',\n",
       " 'M2_R50',\n",
       " 'M3_Q',\n",
       " 'M3_Cpd',\n",
       " 'M3_QA',\n",
       " 'M3_R50',\n",
       " 'M6_VQ_ITT']"
      ]
     },
     "execution_count": 16,
     "metadata": {},
     "output_type": "execute_result"
    }
   ],
   "source": [
    "column_names"
   ]
  },
  {
   "cell_type": "markdown",
   "id": "alpine-caution",
   "metadata": {},
   "source": [
    "# set up models"
   ]
  },
  {
   "cell_type": "code",
   "execution_count": 17,
   "id": "threatened-teddy",
   "metadata": {},
   "outputs": [],
   "source": [
    "from imblearn.ensemble import BalancedRandomForestClassifier\n",
    "from imblearn.ensemble import EasyEnsembleClassifier\n",
    "from sklearn.ensemble import RandomForestClassifier\n",
    "from sklearn.linear_model import LogisticRegression, Lasso"
   ]
  },
  {
   "cell_type": "markdown",
   "id": "latin-drain",
   "metadata": {},
   "source": [
    "# iterate over base, m1, m2, m3 cols to predict m6"
   ]
  },
  {
   "cell_type": "code",
   "execution_count": 18,
   "id": "diagnostic-tooth",
   "metadata": {},
   "outputs": [],
   "source": [
    "from sklearn.impute import KNNImputer\n",
    "from sklearn.model_selection import ShuffleSplit\n",
    "from sklearn.metrics import precision_score, recall_score, precision_recall_curve"
   ]
  },
  {
   "cell_type": "code",
   "execution_count": 19,
   "id": "engaging-advisory",
   "metadata": {},
   "outputs": [],
   "source": [
    "results = {}\n",
    "\n",
    "set_of_cols = {\n",
    "    \"base\": base_cols,\n",
    "    \"m1\": base_cols + m1_cols,\n",
    "    \"m2\": base_cols + m1_cols + m2_cols,\n",
    "    \"m3\": base_cols + m1_cols + m2_cols + m3_cols,\n",
    "}\n",
    "# xgboost params\n",
    "# param = {'max_depth': 8, 'eta': .3, 'objective': 'binary:logistic', \"scale_pos_weight\" : 1}\n",
    "# param['nthread'] = 4\n",
    "# param['eval_metric'] = [\"aucpr\"]\n",
    "# num_round = 10"
   ]
  },
  {
   "cell_type": "code",
   "execution_count": 20,
   "id": "behavioral-agreement",
   "metadata": {},
   "outputs": [],
   "source": [
    "import numpy as np\n",
    "import pandas as pd\n",
    "from sklearn.impute import KNNImputer\n",
    "from sklearn.preprocessing import MinMaxScaler\n",
    "import math \n",
    "\n",
    "mm = MinMaxScaler()\n",
    "\n",
    "def find_category_mappings(df, variable):\n",
    "    return {k: i for i, k in enumerate(df[variable].dropna().unique(), 0)}\n",
    "\n",
    "def integer_encode(df , variable, ordinal_mapping):\n",
    "    df[variable] = df[variable].map(ordinal_mapping)\n",
    "\n",
    "mappin = dict()\n",
    "def imputation(df1 , cols):\n",
    "    df = df1.copy()\n",
    "    #Encoding dict &amp; Removing nan    \n",
    "    #mappin = dict()\n",
    "    for variable in cols:\n",
    "        mappings = find_category_mappings(df, variable)\n",
    "        mappin[variable] = mappings\n",
    "\n",
    "    #Apply mapping\n",
    "    for variable in cols:\n",
    "        integer_encode(df, variable, mappin[variable])  \n",
    "\n",
    "    #Minmaxscaler and KNN imputation \n",
    "    sca = mm.fit_transform(df)\n",
    "    # knn imputation # neighbors selected to be sqrt(training size)\n",
    "    knn_imputer = KNNImputer(n_neighbors = int(math.sqrt(len(df))))\n",
    "    knn = knn_imputer.fit_transform(sca)\n",
    "    df.iloc[:,:] = mm.inverse_transform(knn)\n",
    "    for i in df.columns : \n",
    "        df[i] = round(df[i]).astype('int')\n",
    "\n",
    "    #Inverse transform\n",
    "    for i in cols:\n",
    "        inv_map = {v: k for k, v in mappin[i].items()}\n",
    "        df[i] = df[i].map(inv_map)\n",
    "    return df\n"
   ]
  },
  {
   "cell_type": "code",
   "execution_count": 21,
   "id": "worst-corpus",
   "metadata": {},
   "outputs": [
    {
     "name": "stdout",
     "output_type": "stream",
     "text": [
      "-----\n",
      "training base set of columns\n",
      "['Age_5Gp', 'Housing', 'Employment', 'Base_CO', 'Base_HSI', 'Base_CpdGp', 'Base_CpdGp', 'Base_Cpd', 'Base_Age_weekly_smoking', 'Base_QA_time', 'Base_Ready', 'Base_QConfidence', 'Base_QRMethod_6']\n"
     ]
    },
    {
     "name": "stderr",
     "output_type": "stream",
     "text": [
      "/Users/ytf1997/miniconda3/envs/ML_learn/lib/python3.6/site-packages/sklearn/utils/validation.py:63: DataConversionWarning: A column-vector y was passed when a 1d array was expected. Please change the shape of y to (n_samples, ), for example using ravel().\n",
      "  return f(*args, **kwargs)\n",
      "/Users/ytf1997/miniconda3/envs/ML_learn/lib/python3.6/site-packages/sklearn/utils/validation.py:63: DataConversionWarning: A column-vector y was passed when a 1d array was expected. Please change the shape of y to (n_samples, ), for example using ravel().\n",
      "  return f(*args, **kwargs)\n",
      "/Users/ytf1997/miniconda3/envs/ML_learn/lib/python3.6/site-packages/sklearn/utils/validation.py:63: DataConversionWarning: A column-vector y was passed when a 1d array was expected. Please change the shape of y to (n_samples, ), for example using ravel().\n",
      "  return f(*args, **kwargs)\n",
      "/Users/ytf1997/miniconda3/envs/ML_learn/lib/python3.6/site-packages/sklearn/utils/validation.py:63: DataConversionWarning: A column-vector y was passed when a 1d array was expected. Please change the shape of y to (n_samples, ), for example using ravel().\n",
      "  return f(*args, **kwargs)\n",
      "/Users/ytf1997/miniconda3/envs/ML_learn/lib/python3.6/site-packages/sklearn/utils/validation.py:63: DataConversionWarning: A column-vector y was passed when a 1d array was expected. Please change the shape of y to (n_samples, ), for example using ravel().\n",
      "  return f(*args, **kwargs)\n"
     ]
    },
    {
     "name": "stdout",
     "output_type": "stream",
     "text": [
      "-----\n",
      "training m1 set of columns\n",
      "['Age_5Gp', 'Housing', 'Employment', 'Base_CO', 'Base_HSI', 'Base_CpdGp', 'Base_CpdGp', 'Base_Cpd', 'Base_Age_weekly_smoking', 'Base_QA_time', 'Base_Ready', 'Base_QConfidence', 'Base_QRMethod_6', 'Age_5Gp', 'Housing', 'Employment', 'Base_CO', 'Base_HSI', 'Base_CpdGp', 'Base_CpdGp', 'Base_Cpd', 'Base_Age_weekly_smoking', 'Base_QA_time', 'Base_Ready', 'Base_QConfidence', 'Base_QRMethod_6', 'M1_Q', 'M1_QA_Num', 'M1_QReason_1', 'M1_QReason_4', 'M1_QReason_9', 'M1_QReason_12', 'M1_Cpd', 'M1_QA_Num', 'M1_R50', 'M1_QReason_1', 'M1_QReason_12', 'M1_QReason_4', 'M1_QReason_9', 'M1_QReason_12', 'M1_Withdrawal_3', 'M1_Withdrawal_5', 'M1_Withdrawal_8', 'M1_Withdrawal_10']\n"
     ]
    },
    {
     "name": "stderr",
     "output_type": "stream",
     "text": [
      "/Users/ytf1997/miniconda3/envs/ML_learn/lib/python3.6/site-packages/sklearn/utils/validation.py:63: DataConversionWarning: A column-vector y was passed when a 1d array was expected. Please change the shape of y to (n_samples, ), for example using ravel().\n",
      "  return f(*args, **kwargs)\n",
      "/Users/ytf1997/miniconda3/envs/ML_learn/lib/python3.6/site-packages/sklearn/utils/validation.py:63: DataConversionWarning: A column-vector y was passed when a 1d array was expected. Please change the shape of y to (n_samples, ), for example using ravel().\n",
      "  return f(*args, **kwargs)\n",
      "/Users/ytf1997/miniconda3/envs/ML_learn/lib/python3.6/site-packages/sklearn/utils/validation.py:63: DataConversionWarning: A column-vector y was passed when a 1d array was expected. Please change the shape of y to (n_samples, ), for example using ravel().\n",
      "  return f(*args, **kwargs)\n",
      "/Users/ytf1997/miniconda3/envs/ML_learn/lib/python3.6/site-packages/sklearn/utils/validation.py:63: DataConversionWarning: A column-vector y was passed when a 1d array was expected. Please change the shape of y to (n_samples, ), for example using ravel().\n",
      "  return f(*args, **kwargs)\n",
      "/Users/ytf1997/miniconda3/envs/ML_learn/lib/python3.6/site-packages/sklearn/utils/validation.py:63: DataConversionWarning: A column-vector y was passed when a 1d array was expected. Please change the shape of y to (n_samples, ), for example using ravel().\n",
      "  return f(*args, **kwargs)\n"
     ]
    },
    {
     "name": "stdout",
     "output_type": "stream",
     "text": [
      "-----\n",
      "training m2 set of columns\n",
      "['Age_5Gp', 'Housing', 'Employment', 'Base_CO', 'Base_HSI', 'Base_CpdGp', 'Base_CpdGp', 'Base_Cpd', 'Base_Age_weekly_smoking', 'Base_QA_time', 'Base_Ready', 'Base_QConfidence', 'Base_QRMethod_6', 'Age_5Gp', 'Housing', 'Employment', 'Base_CO', 'Base_HSI', 'Base_CpdGp', 'Base_CpdGp', 'Base_Cpd', 'Base_Age_weekly_smoking', 'Base_QA_time', 'Base_Ready', 'Base_QConfidence', 'Base_QRMethod_6', 'M1_Q', 'M1_QA_Num', 'M1_QReason_1', 'M1_QReason_4', 'M1_QReason_9', 'M1_QReason_12', 'M1_Cpd', 'M1_QA_Num', 'M1_R50', 'M1_QReason_1', 'M1_QReason_12', 'M1_QReason_4', 'M1_QReason_9', 'M1_QReason_12', 'M1_Withdrawal_3', 'M1_Withdrawal_5', 'M1_Withdrawal_8', 'M1_Withdrawal_10', 'Age_5Gp', 'Housing', 'Employment', 'Base_CO', 'Base_HSI', 'Base_CpdGp', 'Base_CpdGp', 'Base_Cpd', 'Base_Age_weekly_smoking', 'Base_QA_time', 'Base_Ready', 'Base_QConfidence', 'Base_QRMethod_6', 'M1_Q', 'M1_QA_Num', 'M1_QReason_1', 'M1_QReason_4', 'M1_QReason_9', 'M1_QReason_12', 'M1_Cpd', 'M1_QA_Num', 'M1_R50', 'M1_QReason_1', 'M1_QReason_12', 'M1_QReason_4', 'M1_QReason_9', 'M1_QReason_12', 'M1_Withdrawal_3', 'M1_Withdrawal_5', 'M1_Withdrawal_8', 'M1_Withdrawal_10', 'M2_Q', 'M2_QA', 'M2_QA_acc', 'M2_Cpd', 'M2_QA', 'M2_QA_acc', 'M2_QA_acc', 'M2_R50']\n"
     ]
    },
    {
     "name": "stderr",
     "output_type": "stream",
     "text": [
      "/Users/ytf1997/miniconda3/envs/ML_learn/lib/python3.6/site-packages/sklearn/utils/validation.py:63: DataConversionWarning: A column-vector y was passed when a 1d array was expected. Please change the shape of y to (n_samples, ), for example using ravel().\n",
      "  return f(*args, **kwargs)\n",
      "/Users/ytf1997/miniconda3/envs/ML_learn/lib/python3.6/site-packages/sklearn/utils/validation.py:63: DataConversionWarning: A column-vector y was passed when a 1d array was expected. Please change the shape of y to (n_samples, ), for example using ravel().\n",
      "  return f(*args, **kwargs)\n",
      "/Users/ytf1997/miniconda3/envs/ML_learn/lib/python3.6/site-packages/sklearn/utils/validation.py:63: DataConversionWarning: A column-vector y was passed when a 1d array was expected. Please change the shape of y to (n_samples, ), for example using ravel().\n",
      "  return f(*args, **kwargs)\n",
      "/Users/ytf1997/miniconda3/envs/ML_learn/lib/python3.6/site-packages/sklearn/utils/validation.py:63: DataConversionWarning: A column-vector y was passed when a 1d array was expected. Please change the shape of y to (n_samples, ), for example using ravel().\n",
      "  return f(*args, **kwargs)\n",
      "/Users/ytf1997/miniconda3/envs/ML_learn/lib/python3.6/site-packages/sklearn/utils/validation.py:63: DataConversionWarning: A column-vector y was passed when a 1d array was expected. Please change the shape of y to (n_samples, ), for example using ravel().\n",
      "  return f(*args, **kwargs)\n"
     ]
    },
    {
     "name": "stdout",
     "output_type": "stream",
     "text": [
      "-----\n",
      "training m3 set of columns\n",
      "['Age_5Gp', 'Housing', 'Employment', 'Base_CO', 'Base_HSI', 'Base_CpdGp', 'Base_CpdGp', 'Base_Cpd', 'Base_Age_weekly_smoking', 'Base_QA_time', 'Base_Ready', 'Base_QConfidence', 'Base_QRMethod_6', 'Age_5Gp', 'Housing', 'Employment', 'Base_CO', 'Base_HSI', 'Base_CpdGp', 'Base_CpdGp', 'Base_Cpd', 'Base_Age_weekly_smoking', 'Base_QA_time', 'Base_Ready', 'Base_QConfidence', 'Base_QRMethod_6', 'M1_Q', 'M1_QA_Num', 'M1_QReason_1', 'M1_QReason_4', 'M1_QReason_9', 'M1_QReason_12', 'M1_Cpd', 'M1_QA_Num', 'M1_R50', 'M1_QReason_1', 'M1_QReason_12', 'M1_QReason_4', 'M1_QReason_9', 'M1_QReason_12', 'M1_Withdrawal_3', 'M1_Withdrawal_5', 'M1_Withdrawal_8', 'M1_Withdrawal_10', 'Age_5Gp', 'Housing', 'Employment', 'Base_CO', 'Base_HSI', 'Base_CpdGp', 'Base_CpdGp', 'Base_Cpd', 'Base_Age_weekly_smoking', 'Base_QA_time', 'Base_Ready', 'Base_QConfidence', 'Base_QRMethod_6', 'M1_Q', 'M1_QA_Num', 'M1_QReason_1', 'M1_QReason_4', 'M1_QReason_9', 'M1_QReason_12', 'M1_Cpd', 'M1_QA_Num', 'M1_R50', 'M1_QReason_1', 'M1_QReason_12', 'M1_QReason_4', 'M1_QReason_9', 'M1_QReason_12', 'M1_Withdrawal_3', 'M1_Withdrawal_5', 'M1_Withdrawal_8', 'M1_Withdrawal_10', 'M2_Q', 'M2_QA', 'M2_QA_acc', 'M2_Cpd', 'M2_QA', 'M2_QA_acc', 'M2_QA_acc', 'M2_R50', 'Age_5Gp', 'Housing', 'Employment', 'Base_CO', 'Base_HSI', 'Base_CpdGp', 'Base_CpdGp', 'Base_Cpd', 'Base_Age_weekly_smoking', 'Base_QA_time', 'Base_Ready', 'Base_QConfidence', 'Base_QRMethod_6', 'M1_Q', 'M1_QA_Num', 'M1_QReason_1', 'M1_QReason_4', 'M1_QReason_9', 'M1_QReason_12', 'M1_Cpd', 'M1_QA_Num', 'M1_R50', 'M1_QReason_1', 'M1_QReason_12', 'M1_QReason_4', 'M1_QReason_9', 'M1_QReason_12', 'M1_Withdrawal_3', 'M1_Withdrawal_5', 'M1_Withdrawal_8', 'M1_Withdrawal_10', 'M2_Q', 'M2_QA', 'M2_QA_acc', 'M2_Cpd', 'M2_QA', 'M2_QA_acc', 'M2_QA_acc', 'M2_R50', 'M3_Q', 'M3_QA', 'M3_Cpd', 'M3_QA', 'M3_R50']\n"
     ]
    },
    {
     "name": "stderr",
     "output_type": "stream",
     "text": [
      "/Users/ytf1997/miniconda3/envs/ML_learn/lib/python3.6/site-packages/sklearn/utils/validation.py:63: DataConversionWarning: A column-vector y was passed when a 1d array was expected. Please change the shape of y to (n_samples, ), for example using ravel().\n",
      "  return f(*args, **kwargs)\n",
      "/Users/ytf1997/miniconda3/envs/ML_learn/lib/python3.6/site-packages/sklearn/utils/validation.py:63: DataConversionWarning: A column-vector y was passed when a 1d array was expected. Please change the shape of y to (n_samples, ), for example using ravel().\n",
      "  return f(*args, **kwargs)\n",
      "/Users/ytf1997/miniconda3/envs/ML_learn/lib/python3.6/site-packages/sklearn/utils/validation.py:63: DataConversionWarning: A column-vector y was passed when a 1d array was expected. Please change the shape of y to (n_samples, ), for example using ravel().\n",
      "  return f(*args, **kwargs)\n",
      "/Users/ytf1997/miniconda3/envs/ML_learn/lib/python3.6/site-packages/sklearn/utils/validation.py:63: DataConversionWarning: A column-vector y was passed when a 1d array was expected. Please change the shape of y to (n_samples, ), for example using ravel().\n",
      "  return f(*args, **kwargs)\n",
      "/Users/ytf1997/miniconda3/envs/ML_learn/lib/python3.6/site-packages/sklearn/utils/validation.py:63: DataConversionWarning: A column-vector y was passed when a 1d array was expected. Please change the shape of y to (n_samples, ), for example using ravel().\n",
      "  return f(*args, **kwargs)\n"
     ]
    }
   ],
   "source": [
    "\n",
    "for name, cols in zip(list(set_of_cols.keys()), list(set_of_cols.values())):\n",
    "    # X\n",
    "    data = pd.DataFrame()\n",
    "    \n",
    "    print(\"-----\")\n",
    "    print(f\"training {name} set of columns\")\n",
    "    for col in cols:\n",
    "        data = pd.concat([data.reset_index(drop=True), qtw.filter(regex = col)], axis=1)\n",
    "        \n",
    "    print(data.columns.values.tolist())\n",
    "    # y\n",
    "    label = qtw[\"M6_VQ_ITT\"]\n",
    "    label = pd.get_dummies(label, drop_first = True)\n",
    "    # invert labelling to predict validated abstinence\n",
    "    label = 1 - label\n",
    "    \n",
    "    # CV split\n",
    "    rs = ShuffleSplit(n_splits=5, test_size=.2, random_state=42)\n",
    "    fold = 0\n",
    "    results[name] = {}\n",
    "    for train_index, test_index in rs.split(data):\n",
    "        X_train = data.iloc[train_index, :]\n",
    "        y_train = label.iloc[train_index, :]\n",
    "        X_test = data.iloc[test_index, :]\n",
    "        y_test = label.iloc[test_index, :]\n",
    "\n",
    "\n",
    "\n",
    "        X_train = X_train.loc[:,~X_train.columns.duplicated()]\n",
    "        \n",
    "        # imputation of train set\n",
    "        X_train = imputation(X_train,X_train.select_dtypes(include = \"object\").columns.values.tolist())\n",
    "        # encoding\n",
    "        X_train = pd.get_dummies(X_train, drop_first = True)\n",
    "        X_names = X_train.columns\n",
    "\n",
    "        X_test = X_test.loc[:,~X_test.columns.duplicated()]\n",
    "        # imputation of test set\n",
    "        X_test = imputation(X_test,X_test.select_dtypes(include = \"object\").columns.values.tolist())\n",
    "        # encoding\n",
    "        X_test = pd.get_dummies(X_test, drop_first = True)\n",
    "\n",
    "        model = EasyEnsembleClassifier(random_state = 42)\n",
    "#         model = BalancedRandomForestClassifier(random_state = 42, class_weight = \"balanced\")\n",
    "#         model = LogisticRegression(penalty = 'l1',\n",
    "#                                    solver=\"liblinear\")\n",
    "#         model = RandomForestClassifier(random_state = 42)\n",
    "#         model = RandomForestClassifier(random_state = 42, class_weight = \"balanced\")\n",
    "        model.fit(X_train, y_train)\n",
    "        ypred = model.predict_proba(X_test)[:,1]\n",
    "        yclass = model.predict(X_test)\n",
    "        \n",
    "        results[name][f\"fold{fold}\"] = {\n",
    "            \"precision\": precision_score(yclass, y_test, average = \"binary\"),\n",
    "            \"recall\":recall_score(yclass, y_test, average = \"binary\"), \n",
    "            \"aucpr\": precision_recall_curve(y_test, ypred),\n",
    "            \"model\": model,\n",
    "            \"feature_names\": X_names\n",
    "        }\n",
    "        fold +=1 "
   ]
  },
  {
   "cell_type": "code",
   "execution_count": 22,
   "id": "sapphire-quick",
   "metadata": {},
   "outputs": [],
   "source": [
    "# save variables to pickle\n",
    "import pickle\n",
    "filename = \"./easyensemble/easyensemble_resultsv4.pickle\"\n",
    "with open(filename, 'wb') as f:\n",
    "    pickle.dump(results, f)"
   ]
  },
  {
   "cell_type": "code",
   "execution_count": 23,
   "id": "manufactured-uzbekistan",
   "metadata": {},
   "outputs": [
    {
     "name": "stdout",
     "output_type": "stream",
     "text": [
      "printing metrics of prediction model based on base set of cols\n",
      "0.628 0.123\n",
      "printing metrics of prediction model based on m1 set of cols\n",
      "0.714 0.172\n",
      "printing metrics of prediction model based on m2 set of cols\n",
      "0.76 0.227\n",
      "printing metrics of prediction model based on m3 set of cols\n",
      "0.833 0.304\n"
     ]
    }
   ],
   "source": [
    "for name in results.keys():\n",
    "    folds = 0\n",
    "    precision = 0\n",
    "    recall = 0\n",
    "    print(f\"printing metrics of prediction model based on {name} set of cols\")\n",
    "    for fold in results[name].keys():\n",
    "        folds+=1\n",
    "        precision += results[name][fold][\"precision\"]\n",
    "        recall += results[name][fold][\"recall\"]\n",
    "    precision /= folds\n",
    "    recall /= folds\n",
    "    print(round(precision,3), round(recall,3))"
   ]
  },
  {
   "cell_type": "markdown",
   "id": "swiss-spokesman",
   "metadata": {},
   "source": [
    "# load results\n",
    "\n",
    "easyensemble is based on bagging classifiers, which are based on adaboost: \n",
    "1. https://stats.stackexchange.com/questions/324383/feature-value-importance-adaboost-classifier#:~:text=AdaBoost's%20feature%20importance%20is%20derived,provided%20by%20each%20Decision%20Tree.\n",
    "2. https://scikit-learn.org/stable/modules/generated/sklearn.ensemble.AdaBoostClassifier.html\n",
    "3. Gini importance is what is produced by adaboost\n"
   ]
  },
  {
   "cell_type": "code",
   "execution_count": 192,
   "id": "rapid-minnesota",
   "metadata": {},
   "outputs": [],
   "source": [
    "import pickle\n",
    "with open('./easyensemble/easyensemble_resultsv3.pickle', 'rb') as f:\n",
    "    results = pickle.load(f)"
   ]
  },
  {
   "cell_type": "markdown",
   "id": "focal-trinity",
   "metadata": {},
   "source": [
    "# imblearn feature importance"
   ]
  },
  {
   "cell_type": "code",
   "execution_count": 193,
   "id": "immediate-procedure",
   "metadata": {},
   "outputs": [],
   "source": [
    "feat_dict = {\n",
    "    \"Age_5Gp\": \"Age group\",\n",
    "    \"Housing\": \"Type of housing\",\n",
    "    \"Employment\": \"Employment status\",\n",
    "    \"Base_CO\": \"Level of exhaled carbon monoxide\",\n",
    "    \"Base_HSI\": \"Heaviness of smoking index\",\n",
    "    \"Base_CpdGp\": \"Daily cigarette consumption group\",\n",
    "    \"Base_Cpd\": \"Daily cigarette consumption\",\n",
    "    \"Base_Age_weekly_smoking\": \"Age of first weekly smoking\",\n",
    "    \"Base_QA_time\": \"Time of last quit attempt:\\n within the past month\",\n",
    "    \"Base_Ready\": \"Planned quit date\",\n",
    "    \"Base_QConfidence\": \"Perceived confidence of quitting\",\n",
    "    \"Base_QRMethod_6\": \"Method to quit or reduce smoking previously:\\n use nicotine replacement therapy\",\n",
    "#     M1 (Baseline and following 1-month features)\n",
    "    \"M1_Q\": \"M1 Self-reported past 7-day\\n point prevalence abstinence\",\n",
    "    \"M1_Cpd\": \"M1 Daily cigarette consumption\",\n",
    "    \"M1_QA_Num\": \"M1 Number of quit attempts\",\n",
    "    \"M1_R50\": \"M1 Daily cigarette consumption reduction by\\n >=50% of baseline level\",\n",
    "    \"M1_QReason_1\": \"M1 Method to quit or reduce smoking during the study:\\n commitment to quit\",\n",
    "    \"M1_QReason_4\": \"M1 Method to quit or reduce smoking during the study:\\n other reasons\",\n",
    "    \"M1_QReason_9\": \"M1 Method to quit or reduce smoking during the study:\\n family members’ health\",\n",
    "    \"M1_QReason_12\": \"M1 Method to quit or reduce smoking during the study:\\n others’ encouragement/pressure\",\n",
    "    \"M1_Withdrawal_3\": \"M1 Withdraw symptoms:\\n cannot sleep well\",\n",
    "    \"M1_Withdrawal_5\": \"M1 Withdraw symptoms:\\n weight gain\",\n",
    "    \"M1_Withdrawal_8\": \"M1 Withdraw symptoms:\\n insomnia\",\n",
    "    \"M1_Withdrawal_10\": \"M1 Withdraw symptoms:\\n other symptoms\",\n",
    "#     M2 (M1 and following 2-month features)\n",
    "    \"M2_Q\": \"M2 Self-reported past 7-day\\n point prevalence abstinence\",\n",
    "    \"M2_Cpd\": \"M2 Daily cigarette consumption\",\n",
    "    \"M2_QA\": \"M2 Quit attempt after joining the study\",\n",
    "    \"M2_QA_acc\": \"M2 Quit attempt after joining the study (accumulated)\",\n",
    "    \"M2_R50\": \"M2 Reduce daily cigarette consumption by\\n >=50% of baseline level\",\n",
    "#     M3 (M2 and following 3-month features)\n",
    "    \"M3_Q\": \"M3 Self-reported past 7-day\\n point prevalence abstinence\",\n",
    "    \"M3_Cpd\": \"M3 Daily cigarette consumption\",\n",
    "    \"M3_QA\": \"M3 Quit attempt after joining the study\",\n",
    "    \"M3_R50\": \"M3 Reduce daily cigarette consumption by\\n >=50% of baseline level\"\n",
    "\n",
    "}"
   ]
  },
  {
   "cell_type": "code",
   "execution_count": 194,
   "id": "beginning-hospital",
   "metadata": {},
   "outputs": [],
   "source": [
    "feat_dict = pd.DataFrame([feat_dict.keys(), feat_dict.values()])\n",
    "feat_dict = feat_dict.transpose()"
   ]
  },
  {
   "cell_type": "code",
   "execution_count": 196,
   "id": "prescribed-transportation",
   "metadata": {},
   "outputs": [
    {
     "data": {
      "text/plain": [
       "<Figure size 432x288 with 0 Axes>"
      ]
     },
     "metadata": {},
     "output_type": "display_data"
    },
    {
     "data": {
      "image/png": "[encoded data removed]",
      "text/plain": [
       "<Figure size 432x288 with 1 Axes>"
      ]
     },
     "metadata": {
      "needs_background": "light"
     },
     "output_type": "display_data"
    },
    {
     "data": {
      "image/png": "[encoded data removed]",
      "text/plain": [
       "<Figure size 432x288 with 1 Axes>"
      ]
     },
     "metadata": {
      "needs_background": "light"
     },
     "output_type": "display_data"
    },
    {
     "data": {
      "image/png": "[encoded data removed]",
      "text/plain": [
       "<Figure size 432x288 with 1 Axes>"
      ]
     },
     "metadata": {
      "needs_background": "light"
     },
     "output_type": "display_data"
    },
    {
     "data": {
      "image/png": "[encoded data removed]",
      "text/plain": [
       "<Figure size 432x288 with 1 Axes>"
      ]
     },
     "metadata": {
      "needs_background": "light"
     },
     "output_type": "display_data"
    }
   ],
   "source": [
    "# not sure if easy ensemble has any function to output feature importance\n",
    "# plt.figure(figsize=(20,40))\n",
    "k = 0\n",
    "for name in ['base', 'm1', 'm2', 'm3']:\n",
    "    importance = pd.DataFrame([])\n",
    "    fold_num = 0\n",
    "#     for importance_type in [\"weight\", 'gain', \"cover\"]:\n",
    "    for fold in results[name].keys():\n",
    "        # Get the importance dictionary (by gain) from the booster\n",
    "        model = results[name][fold][\"model\"]\n",
    "        # easyensemble\n",
    "        importance_holder = np.mean([est.steps[1][1].feature_importances_ for est in model.estimators_], axis=0)\n",
    "        # balancedrf\n",
    "#         importance_holder = np.mean([est.feature_importances_ for est in model.estimators_], axis = 0)\n",
    "        feature_names = results[name][fold][\"feature_names\"]\n",
    "        importance_holder = pd.concat([pd.Series(feature_names).rename(\"feature_names\"), \n",
    "                                       pd.Series(importance_holder).rename(\"importance\")], axis = 1)\n",
    "        if len(importance) == 0:\n",
    "            importance = importance_holder\n",
    "        else:\n",
    "            importance.iloc[:,1] += importance_holder.iloc[:,1]\n",
    "        fold_num += 1\n",
    "    \n",
    "    importance = importance.sort_values(by = [\"importance\"], ascending = False)[:10]\n",
    "    importance = importance.sort_values(by = [\"importance\"], ascending = True) \n",
    "    importance.iloc[:,1] /= importance.iloc[:,1].max()\n",
    "    for i in range(len(importance)):\n",
    "        key = importance.iloc[i, 0]\n",
    "        match_length = 0\n",
    "        match_index = 0\n",
    "        for j in range(len(feat_dict)):\n",
    "            found = key.find(feat_dict.iloc[j, 0])\n",
    "            if found != -1 and len(feat_dict.iloc[j, 0]) > match_length:\n",
    "                match_length = len(feat_dict.iloc[j, 0])\n",
    "                match_index = j\n",
    "                    # replace with long form\n",
    "                    \n",
    "#             print(key, \"->\", feat_dict.iloc[match_index, 1])\n",
    "        importance.iloc[i, 0] = importance.iloc[i, 0].replace(feat_dict.iloc[match_index, 0], \n",
    "                                feat_dict.iloc[match_index, 1])\n",
    "    plt.figure(k)\n",
    "    k += 1\n",
    "    fig, ax = plt.subplots()\n",
    "    x = importance.feature_names\n",
    "    \n",
    "    y = importance.importance\n",
    "    bars = ax.barh(x, y, height = .5)\n",
    "    # access the bar attributes to place the text in the appropriate location\n",
    "    for bar in bars:\n",
    "        yval = round(bar.get_width(),3)\n",
    "#         print(bar.get_x())\n",
    "        ax.text(bar.get_x() + 1.1, bar.get_y(), yval)\n",
    "    plt.title(f\"Normalised Gini importance for {name} set of features; Easy ensemble\")\n",
    "#     bars = plt.bar(x, height=y, width=.4)\n",
    "\n",
    "    \n",
    "#     ax2 = ax.twinx()\n",
    "#     ax2.set_ylabel(\"Gini importance\")\n",
    "#     ax.bar_label(bars)\n",
    "    # put figures to end of bars\n",
    "    # round off score to 2 decimal places\n",
    "#     for key in importance.keys():\n",
    "#         importance[key] /= fold_num\n",
    "#         importance[key] = round(importance[key],2)\n",
    "        \n",
    "#         xgb.plot_importance(importance, \n",
    "#                             importance_type = importance_type, \n",
    "#                             max_num_features = 10,\n",
    "#                             xlabel = importance_type,\n",
    "#                             title = f\"Feature importance in terms of {importance_type}\\nfor {name} set of features\")\n",
    "    plt.savefig(f\"./easyensemble/gini_importance_{name}.png\", dpi=200, bbox_inches='tight')"
   ]
  },
  {
   "cell_type": "markdown",
   "id": "greek-belarus",
   "metadata": {},
   "source": [
    "# PRAUC"
   ]
  },
  {
   "cell_type": "code",
   "execution_count": 24,
   "id": "supported-forestry",
   "metadata": {},
   "outputs": [
    {
     "name": "stdout",
     "output_type": "stream",
     "text": [
      "base set of features aucpr 5fold-cv is 0.151, precision is 0.628, recall is 0.123, fscore is 0.206\n",
      "m1 set of features aucpr 5fold-cv is 0.259, precision is 0.714, recall is 0.172, fscore is 0.276\n",
      "m2 set of features aucpr 5fold-cv is 0.335, precision is 0.76, recall is 0.227, fscore is 0.349\n",
      "m3 set of features aucpr 5fold-cv is 0.462, precision is 0.833, recall is 0.304, fscore is 0.446\n"
     ]
    }
   ],
   "source": [
    "import matplotlib.colors as mcolors\n",
    "from sklearn.metrics import auc\n",
    "import numpy as np\n",
    "\n",
    "# recall_df = np.array([])\n",
    "# precision_df = np.array([])\n",
    "\n",
    "for name in results.keys():\n",
    "    aucpr = 0\n",
    "    prec = 0\n",
    "    rec = 0\n",
    "    fscore = 0\n",
    "    fold_num = 0\n",
    "    for fold in results[name].keys():\n",
    "        fold_num += 1\n",
    "        (precision, recall, thresholds) = results[name][fold][\"aucpr\"]\n",
    "        aucpr += auc(recall, precision)\n",
    "        precision = results[name][fold][\"precision\"]\n",
    "        recall = results[name][fold][\"recall\"]\n",
    "        fscore += 2 * precision * recall / (precision + recall)\n",
    "        prec += results[name][fold][\"precision\"]\n",
    "        rec += results[name][fold][\"recall\"]\n",
    "    aucpr /= fold_num\n",
    "    prec /= fold_num\n",
    "    rec /= fold_num\n",
    "    fscore /= fold_num\n",
    "    print(f\"{name} set of features aucpr {fold_num}fold-cv is {round(aucpr,3)}, precision is {round(prec, 3)}, recall is {round(rec, 3)}, fscore is {round(fscore, 3)}\")"
   ]
  },
  {
   "cell_type": "code",
   "execution_count": 22,
   "id": "educated-information",
   "metadata": {},
   "outputs": [
    {
     "name": "stdout",
     "output_type": "stream",
     "text": [
      "0.42251843320270743\n"
     ]
    },
    {
     "data": {
      "text/plain": [
       "Text(0, 0.5, 'Precision')"
      ]
     },
     "execution_count": 22,
     "metadata": {},
     "output_type": "execute_result"
    },
    {
     "data": {
      "image/png": "[encoded data removed]",
      "text/plain": [
       "<Figure size 432x288 with 1 Axes>"
      ]
     },
     "metadata": {
      "needs_background": "light"
     },
     "output_type": "display_data"
    }
   ],
   "source": [
    "precision, recall, thresholds = results[\"m3\"][\"fold0\"][\"aucpr\"]\n",
    "plt.plot(recall, precision)\n",
    "print(auc(recall, precision))\n",
    "plt.legend(results.keys())\n",
    "plt.xlabel(\"Recall\")\n",
    "plt.ylabel(\"Precision\")\n",
    "#     plt.savefig(\"./xgboost/aucpr.png\", dpi = 200)"
   ]
  },
  {
   "cell_type": "code",
   "execution_count": 4,
   "id": "unlike-kruger",
   "metadata": {},
   "outputs": [
    {
     "ename": "AttributeError",
     "evalue": "'EasyEnsembleClassifier' object has no attribute 'get_score'",
     "output_type": "error",
     "traceback": [
      "\u001b[0;31m---------------------------------------------------------------------------\u001b[0m",
      "\u001b[0;31mAttributeError\u001b[0m                            Traceback (most recent call last)",
      "\u001b[0;32m<ipython-input-4-794498606ca2>\u001b[0m in \u001b[0;36m<module>\u001b[0;34m\u001b[0m\n\u001b[1;32m      6\u001b[0m         \u001b[0;32mfor\u001b[0m \u001b[0mfold\u001b[0m \u001b[0;32min\u001b[0m \u001b[0mresults\u001b[0m\u001b[0;34m[\u001b[0m\u001b[0mname\u001b[0m\u001b[0;34m]\u001b[0m\u001b[0;34m.\u001b[0m\u001b[0mkeys\u001b[0m\u001b[0;34m(\u001b[0m\u001b[0;34m)\u001b[0m\u001b[0;34m:\u001b[0m\u001b[0;34m\u001b[0m\u001b[0;34m\u001b[0m\u001b[0m\n\u001b[1;32m      7\u001b[0m             \u001b[0;31m# Get the importance dictionary (by gain) from the booster\u001b[0m\u001b[0;34m\u001b[0m\u001b[0;34m\u001b[0m\u001b[0;34m\u001b[0m\u001b[0m\n\u001b[0;32m----> 8\u001b[0;31m             \u001b[0mimportance_holder\u001b[0m \u001b[0;34m=\u001b[0m \u001b[0mresults\u001b[0m\u001b[0;34m[\u001b[0m\u001b[0mname\u001b[0m\u001b[0;34m]\u001b[0m\u001b[0;34m[\u001b[0m\u001b[0mfold\u001b[0m\u001b[0;34m]\u001b[0m\u001b[0;34m[\u001b[0m\u001b[0;34m\"model\"\u001b[0m\u001b[0;34m]\u001b[0m\u001b[0;34m.\u001b[0m\u001b[0mget_score\u001b[0m\u001b[0;34m(\u001b[0m\u001b[0mimportance_type\u001b[0m\u001b[0;34m=\u001b[0m\u001b[0mimportance_type\u001b[0m\u001b[0;34m)\u001b[0m\u001b[0;34m\u001b[0m\u001b[0;34m\u001b[0m\u001b[0m\n\u001b[0m\u001b[1;32m      9\u001b[0m             \u001b[0;32mfor\u001b[0m \u001b[0mkey\u001b[0m\u001b[0;34m,\u001b[0m \u001b[0mvalue\u001b[0m \u001b[0;32min\u001b[0m \u001b[0mlist\u001b[0m\u001b[0;34m(\u001b[0m\u001b[0mzip\u001b[0m\u001b[0;34m(\u001b[0m\u001b[0mimportance_holder\u001b[0m\u001b[0;34m.\u001b[0m\u001b[0mkeys\u001b[0m\u001b[0;34m(\u001b[0m\u001b[0;34m)\u001b[0m\u001b[0;34m,\u001b[0m \u001b[0mimportance_holder\u001b[0m\u001b[0;34m.\u001b[0m\u001b[0mvalues\u001b[0m\u001b[0;34m(\u001b[0m\u001b[0;34m)\u001b[0m\u001b[0;34m)\u001b[0m\u001b[0;34m)\u001b[0m\u001b[0;34m:\u001b[0m\u001b[0;34m\u001b[0m\u001b[0;34m\u001b[0m\u001b[0m\n\u001b[1;32m     10\u001b[0m                 \u001b[0;32mif\u001b[0m \u001b[0mkey\u001b[0m \u001b[0;32mnot\u001b[0m \u001b[0;32min\u001b[0m \u001b[0mimportance\u001b[0m\u001b[0;34m.\u001b[0m\u001b[0mkeys\u001b[0m\u001b[0;34m(\u001b[0m\u001b[0;34m)\u001b[0m\u001b[0;34m:\u001b[0m\u001b[0;34m\u001b[0m\u001b[0;34m\u001b[0m\u001b[0m\n",
      "\u001b[0;31mAttributeError\u001b[0m: 'EasyEnsembleClassifier' object has no attribute 'get_score'"
     ]
    },
    {
     "data": {
      "text/plain": [
       "<Figure size 1440x2880 with 0 Axes>"
      ]
     },
     "metadata": {},
     "output_type": "display_data"
    }
   ],
   "source": [
    "# not sure if easy ensemble has any function to output feature importance\n",
    "plt.figure(figsize=(20,40))\n",
    "for name in ['base', 'm1', 'm2', 'm3']:\n",
    "    importance = {}\n",
    "    fold_num = 0\n",
    "    for importance_type in [\"weight\", 'gain', \"cover\"]:\n",
    "        for fold in results[name].keys():\n",
    "            # Get the importance dictionary (by gain) from the booster\n",
    "            importance_holder = results[name][fold][\"model\"].get_score(importance_type=importance_type)\n",
    "            for key, value in list(zip(importance_holder.keys(), importance_holder.values())):\n",
    "                if key not in importance.keys():\n",
    "                    importance[key] = 0\n",
    "                importance[key] += value\n",
    "#             import pdb; pdb.set_trace()\n",
    "            fold_num += 1\n",
    "\n",
    "        # round off score to 2 decimal places\n",
    "        for key in importance.keys():\n",
    "            importance[key] /= fold_num\n",
    "            importance[key] = round(importance[key],2)\n",
    "        xgb.plot_importance(importance, \n",
    "                            importance_type = importance_type, \n",
    "                            max_num_features = 10,\n",
    "                            xlabel = importance_type,\n",
    "                            title = f\"Feature importance in terms of {importance_type}\\nfor {name} set of features\")\n",
    "#         plt.savefig(f\"./easyensemble/feature_importance_{name}_{importance_type}.png\", dpi=200, bbox_inches='tight')"
   ]
  },
  {
   "cell_type": "code",
   "execution_count": 40,
   "id": "instrumental-collins",
   "metadata": {},
   "outputs": [
    {
     "ename": "KeyError",
     "evalue": "'Base_CpdGp_21-30'",
     "output_type": "error",
     "traceback": [
      "\u001b[0;31m---------------------------------------------------------------------------\u001b[0m",
      "\u001b[0;31mKeyError\u001b[0m                                  Traceback (most recent call last)",
      "\u001b[0;32m<ipython-input-40-e460ae12312f>\u001b[0m in \u001b[0;36m<module>\u001b[0;34m\u001b[0m\n\u001b[0;32m----> 1\u001b[0;31m \u001b[0mimportance\u001b[0m\u001b[0;34m[\u001b[0m\u001b[0mkey\u001b[0m\u001b[0;34m]\u001b[0m\u001b[0;34m\u001b[0m\u001b[0;34m\u001b[0m\u001b[0m\n\u001b[0m",
      "\u001b[0;31mKeyError\u001b[0m: 'Base_CpdGp_21-30'"
     ]
    }
   ],
   "source": [
    "importance[key]"
   ]
  },
  {
   "cell_type": "code",
   "execution_count": 26,
   "id": "anonymous-panel",
   "metadata": {},
   "outputs": [
    {
     "data": {
      "text/plain": [
       "{'Year': 82.0,\n",
       " 'Base_CO': 121.0,\n",
       " 'Base_HSI': 62.0,\n",
       " 'Base_Cpd': 96.0,\n",
       " 'Base_Age_weekly_smoking': 154.0,\n",
       " 'Base_QConfidence': 95.0,\n",
       " 'Treatment': 25.0,\n",
       " 'Age_5Gp_30-39': 15.0,\n",
       " 'Age_5Gp_40-49': 22.0,\n",
       " 'Age_5Gp_50-59': 22.0,\n",
       " 'Age_5Gp_60+': 22.0,\n",
       " 'Housing_Others': 5.0,\n",
       " 'Housing_Private': 20.0,\n",
       " 'Housing_Public': 24.0,\n",
       " 'Employment_Housekeeper': 4.0,\n",
       " 'Employment_Retired': 11.0,\n",
       " 'Employment_Student': 9.0,\n",
       " 'Employment_Unemployed': 7.0,\n",
       " 'Base_CpdGp_11-20': 8.0,\n",
       " 'Base_CpdGp_21-30': 6.0,\n",
       " 'Base_QA_time_never tried to quit': 26.0,\n",
       " 'Base_QA_time_within 6 months (but before the passing month)': 19.0,\n",
       " 'Base_QA_time_within this month': 5.0,\n",
       " 'Base_QA_time_within this year (but before the passing 6 months)': 4.0,\n",
       " 'Base_Ready_In 60 days': 3.0,\n",
       " 'Base_Ready_In 7 days': 22.0,\n",
       " 'Base_Ready_Undecided/>60 days': 21.0}"
      ]
     },
     "execution_count": 26,
     "metadata": {},
     "output_type": "execute_result"
    }
   ],
   "source": [
    "results[model][fold][\"model\"].get_score(importance_type=importance_type)"
   ]
  },
  {
   "cell_type": "code",
   "execution_count": 20,
   "id": "filled-designation",
   "metadata": {},
   "outputs": [],
   "source": []
  },
  {
   "cell_type": "code",
   "execution_count": null,
   "id": "governing-durham",
   "metadata": {},
   "outputs": [],
   "source": []
  }
 ],
 "metadata": {
  "kernelspec": {
   "display_name": "Python 3",
   "language": "python",
   "name": "python3"
  },
  "language_info": {
   "codemirror_mode": {
    "name": "ipython",
    "version": 3
   },
   "file_extension": ".py",
   "mimetype": "text/x-python",
   "name": "python",
   "nbconvert_exporter": "python",
   "pygments_lexer": "ipython3",
   "version": "3.6.12"
  }
 },
 "nbformat": 4,
 "nbformat_minor": 5
}
